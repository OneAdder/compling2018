{
 "cells": [
  {
   "cell_type": "code",
   "execution_count": 1,
   "metadata": {},
   "outputs": [],
   "source": [
    "from string import punctuation\n",
    "import numpy as np\n",
    "from nltk.tokenize import sent_tokenize\n",
    "from collections import Counter"
   ]
  },
  {
   "cell_type": "code",
   "execution_count": 2,
   "metadata": {},
   "outputs": [],
   "source": [
    "dostoevsky = open('besy_dostoevsky.txt').read()\n",
    "tolstoy = open('anna_karenina.txt').read()\n",
    "\n",
    "def normalize(text):\n",
    "    normalized_text = [\n",
    "        word.strip(punctuation) for word in text.lower().split()\n",
    "    ]\n",
    "    normalized_text = [word for word in normalized_text if word]\n",
    "    return normalized_text"
   ]
  },
  {
   "cell_type": "code",
   "execution_count": 3,
   "metadata": {},
   "outputs": [],
   "source": [
    "def ngrammer(tokens, n=2):\n",
    "    ngrams = []\n",
    "    for i in range(0, len(tokens) - n+1):\n",
    "        ngrams.append(' '.join(tokens[i: i+n]))\n",
    "    return ngrams"
   ]
  },
  {
   "cell_type": "code",
   "execution_count": 4,
   "metadata": {},
   "outputs": [],
   "source": [
    "sentences_dostoevsky = [['<start>'] + normalize(text) + ['<end>'] for text in sent_tokenize(dostoevsky)]\n",
    "sentences_tolstoy = [['<start>'] + normalize(text) + ['<end>'] for text in sent_tokenize(tolstoy)]"
   ]
  },
  {
   "cell_type": "code",
   "execution_count": 5,
   "metadata": {},
   "outputs": [],
   "source": [
    "unigrams_dostoevsky = Counter()\n",
    "bigrams_dostoevsky = Counter()\n",
    "\n",
    "for sentence in sentences_dostoevsky:\n",
    "    unigrams_dostoevsky.update(sentence)\n",
    "    bigrams_dostoevsky.update(ngrammer(sentence))\n",
    "\n",
    "\n",
    "unigrams_tolstoy = Counter()\n",
    "bigrams_tolstoy = Counter()\n",
    "\n",
    "for sentence in sentences_tolstoy:\n",
    "    unigrams_tolstoy.update(sentence)\n",
    "    bigrams_tolstoy.update(ngrammer(sentence))"
   ]
  },
  {
   "cell_type": "code",
   "execution_count": 6,
   "metadata": {},
   "outputs": [
    {
     "data": {
      "text/plain": [
       "[('<start> –', 6632),\n",
       " ('– сказал', 1049),\n",
       " ('<start> он', 999),\n",
       " ('<start> и', 768),\n",
       " ('<start> она', 698),\n",
       " ('<start> но', 649),\n",
       " ('– я', 642),\n",
       " ('что он', 638),\n",
       " ('– сказала', 626),\n",
       " ('<start> я', 531)]"
      ]
     },
     "execution_count": 6,
     "metadata": {},
     "output_type": "execute_result"
    }
   ],
   "source": [
    "bigrams_tolstoy.most_common(10)"
   ]
  },
  {
   "cell_type": "code",
   "execution_count": 7,
   "metadata": {},
   "outputs": [],
   "source": [
    "matrix_dostoevsky = np.zeros((\n",
    "    len(unigrams_dostoevsky),\n",
    "    len(unigrams_dostoevsky),\n",
    "))\n",
    "id2word_dostoevsky = list(unigrams_dostoevsky)\n",
    "word2id_dostoevsky = {word: i for i, word in enumerate(id2word_dostoevsky)}\n",
    "\n",
    "for ngram in bigrams_dostoevsky:\n",
    "    word1, word2 = ngram.split()\n",
    "    matrix_dostoevsky[word2id_dostoevsky[word1]][word2id_dostoevsky[word2]] =\\\n",
    "        (bigrams_dostoevsky[ngram] / unigrams_dostoevsky[word1])"
   ]
  },
  {
   "cell_type": "code",
   "execution_count": 8,
   "metadata": {},
   "outputs": [],
   "source": [
    "matrix_tolstoy = np.zeros((\n",
    "    len(unigrams_tolstoy), \n",
    "    len(unigrams_tolstoy),\n",
    "))\n",
    "\n",
    "id2word_tolstoy = list(unigrams_tolstoy)\n",
    "word2id_tolstoy = {word: i for i, word in enumerate(id2word_tolstoy)}\n",
    "\n",
    "for ngram in bigrams_tolstoy:\n",
    "    word1, word2 = ngram.split()\n",
    "    matrix_tolstoy[word2id_tolstoy[word1]][word2id_tolstoy[word2]] =\\\n",
    "        (bigrams_tolstoy[ngram] / unigrams_tolstoy[word1])"
   ]
  },
  {
   "cell_type": "code",
   "execution_count": 9,
   "metadata": {},
   "outputs": [],
   "source": [
    "def generate(matrix, id2word, word2id, n=100, start='<start>'):\n",
    "    text = []\n",
    "    current_idx = word2id[start]\n",
    "    \n",
    "    for i in range(n):\n",
    "        \n",
    "        chosen = np.random.choice(matrix.shape[1], p=matrix[current_idx])\n",
    "        text.append(id2word[chosen])\n",
    "        \n",
    "        if id2word[chosen] == '<end>':\n",
    "            chosen = word2id['<start>']\n",
    "        current_idx = chosen\n",
    "    \n",
    "    return ' '.join(text)"
   ]
  },
  {
   "cell_type": "code",
   "execution_count": 15,
   "metadata": {},
   "outputs": [
    {
     "name": "stdout",
     "output_type": "stream",
     "text": [
      "он даже и мух и движется очень уговаривал потому если чудеса бывают фр \n",
      " высокий уровень образования есть пророчество «богородица что со лба лямшин сознался а умирая оставить вас свойства — нет это чрез меня наконец с тою самою себе всегда говорил связного было а за ничтожество вашего приказчика ибо прямо проехал в кружевах но как вы сейчас объявил всё целое могла бы ни даже таких случаях и коммунисты а вот были дела \n",
      " я с направлением которые убивают себя такую… отказываюсь описывать в петербург читал некогда \n",
      " из меня с той специальной военной школе подложил потихоньку книгоноше мерзостные фотографии\n"
     ]
    }
   ],
   "source": [
    "print(generate(matrix_dostoevsky, id2word_dostoevsky, word2id_dostoevsky).replace('<end>', '\\n'))"
   ]
  },
  {
   "cell_type": "code",
   "execution_count": 11,
   "metadata": {},
   "outputs": [
    {
     "name": "stdout",
     "output_type": "stream",
     "text": [
      "я как еще не мог передать веер и развлекавшие его \n",
      " она находилась \n",
      " а вот видите очень строго \n",
      " – мама \n",
      " наделавшая столько видишь ли \n",
      " делайте как собаке которую все воспоминания того чтобы вы зовете меня непременно кланяйтесь \n",
      " – да я не хотел что-то яшвину \n",
      " в панталонах тогда он не мог сделать из комнаты \n",
      " добудь ты хотел собирать его и землей железные дороги к крицкому опять ходить без мужчины придерживая платье длинном пальто и ясно в людях предполагала все для этой полной форме вероятно так говорить просто любуюсь на мелочные хлопоты и ждет суждения\n"
     ]
    }
   ],
   "source": [
    "print(generate(matrix_tolstoy, id2word_tolstoy, word2id_tolstoy).replace('<end>', '\\n'))"
   ]
  }
 ],
 "metadata": {
  "kernelspec": {
   "display_name": "Python 3",
   "language": "python",
   "name": "python3"
  },
  "language_info": {
   "codemirror_mode": {
    "name": "ipython",
    "version": 3
   },
   "file_extension": ".py",
   "mimetype": "text/x-python",
   "name": "python",
   "nbconvert_exporter": "python",
   "pygments_lexer": "ipython3",
   "version": "3.7.3"
  }
 },
 "nbformat": 4,
 "nbformat_minor": 2
}
