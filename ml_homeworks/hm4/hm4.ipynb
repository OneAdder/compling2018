{
 "cells": [
  {
   "cell_type": "code",
   "execution_count": 1,
   "metadata": {},
   "outputs": [],
   "source": [
    "import pandas as pd\n",
    "\n",
    "data = pd.read_csv('data.csv')"
   ]
  },
  {
   "cell_type": "code",
   "execution_count": 23,
   "metadata": {},
   "outputs": [
    {
     "data": {
      "text/html": [
       "<div>\n",
       "<style scoped>\n",
       "    .dataframe tbody tr th:only-of-type {\n",
       "        vertical-align: middle;\n",
       "    }\n",
       "\n",
       "    .dataframe tbody tr th {\n",
       "        vertical-align: top;\n",
       "    }\n",
       "\n",
       "    .dataframe thead th {\n",
       "        text-align: right;\n",
       "    }\n",
       "</style>\n",
       "<table border=\"1\" class=\"dataframe\">\n",
       "  <thead>\n",
       "    <tr style=\"text-align: right;\">\n",
       "      <th></th>\n",
       "      <th>category_name</th>\n",
       "      <th>title</th>\n",
       "    </tr>\n",
       "  </thead>\n",
       "  <tbody>\n",
       "    <tr>\n",
       "      <th>0</th>\n",
       "      <td>Телефоны</td>\n",
       "      <td>Xiaomi RedMI 4a</td>\n",
       "    </tr>\n",
       "    <tr>\n",
       "      <th>1</th>\n",
       "      <td>Автомобили</td>\n",
       "      <td>Audi Q5, 2009</td>\n",
       "    </tr>\n",
       "    <tr>\n",
       "      <th>2</th>\n",
       "      <td>Детская одежда и обувь</td>\n",
       "      <td>Толстовка очень теплая</td>\n",
       "    </tr>\n",
       "    <tr>\n",
       "      <th>3</th>\n",
       "      <td>Телефоны</td>\n",
       "      <td>Продаю айфон 6 16 гб сильвер с зарядкой,без ко...</td>\n",
       "    </tr>\n",
       "    <tr>\n",
       "      <th>4</th>\n",
       "      <td>Аквариум</td>\n",
       "      <td>Аквариум</td>\n",
       "    </tr>\n",
       "  </tbody>\n",
       "</table>\n",
       "</div>"
      ],
      "text/plain": [
       "            category_name                                              title\n",
       "0                Телефоны                                    Xiaomi RedMI 4a\n",
       "1              Автомобили                                      Audi Q5, 2009\n",
       "2  Детская одежда и обувь                             Толстовка очень теплая\n",
       "3                Телефоны  Продаю айфон 6 16 гб сильвер с зарядкой,без ко...\n",
       "4                Аквариум                                           Аквариум"
      ]
     },
     "execution_count": 23,
     "metadata": {},
     "output_type": "execute_result"
    }
   ],
   "source": [
    "data = data[['category_name', 'title']]\n",
    "sample = data.sample(frac=0.01)\n",
    "data.head()"
   ]
  },
  {
   "cell_type": "code",
   "execution_count": 252,
   "metadata": {},
   "outputs": [],
   "source": [
    "from sklearn.cluster import (\n",
    "    AffinityPropagation, AgglomerativeClustering,\n",
    "    DBSCAN, MeanShift, Birch\n",
    ")\n",
    "from sklearn.decomposition import TruncatedSVD, NMF\n",
    "from sklearn import metrics"
   ]
  },
  {
   "cell_type": "code",
   "execution_count": 6,
   "metadata": {},
   "outputs": [],
   "source": [
    "from sklearn.feature_extraction.text import CountVectorizer, TfidfVectorizer"
   ]
  },
  {
   "cell_type": "markdown",
   "metadata": {},
   "source": [
    "# Задание 1"
   ]
  },
  {
   "cell_type": "code",
   "execution_count": 29,
   "metadata": {},
   "outputs": [],
   "source": [
    "cv = CountVectorizer(max_features=500)\n",
    "tfidf = TfidfVectorizer(max_features=500)\n",
    "\n",
    "cv_vec = cv.fit_transform(sample['title'])\n",
    "tfidf_vec = tfidf.fit_transform(sample['title'])"
   ]
  },
  {
   "cell_type": "code",
   "execution_count": 30,
   "metadata": {},
   "outputs": [],
   "source": [
    "y = sample['category_name']"
   ]
  },
  {
   "cell_type": "code",
   "execution_count": 52,
   "metadata": {},
   "outputs": [],
   "source": [
    "def get_affinity(vectors, **preferences):\n",
    "    cluster = AffinityPropagation(**preferences)\n",
    "    cluster.fit(vectors)\n",
    "    labels = cluster.labels_\n",
    "    return labels, vectors"
   ]
  },
  {
   "cell_type": "code",
   "execution_count": 57,
   "metadata": {},
   "outputs": [],
   "source": [
    "def get_agglomerative(vectors, **preferences):\n",
    "    svd = TruncatedSVD(50)\n",
    "    vectors_svd = svd.fit_transform(vectors)\n",
    "    cluster = AgglomerativeClustering(**preferences)\n",
    "    cluster.fit(vectors_svd)\n",
    "    labels = cluster.labels_\n",
    "    return labels, vectors"
   ]
  },
  {
   "cell_type": "code",
   "execution_count": 58,
   "metadata": {},
   "outputs": [],
   "source": [
    "def get_dbscan(vectors, **preferences):\n",
    "    svd = TruncatedSVD(50)\n",
    "    vectors_svd = svd.fit_transform(vectors)\n",
    "    cluster = DBSCAN(**preferences)\n",
    "    cluster.fit(vectors_svd)\n",
    "    labels = cluster.labels_\n",
    "    return labels, vectors"
   ]
  },
  {
   "cell_type": "code",
   "execution_count": 55,
   "metadata": {},
   "outputs": [],
   "source": [
    "def print_metrics(labels, vectors):\n",
    "    print(\"Silhouette Coefficient: %0.3f\" \n",
    "          % metrics.silhouette_score(vectors, labels))\n",
    "    print(\"Homogeneity: %0.3f\" %\n",
    "          metrics.homogeneity_score(y, labels))\n",
    "    print(\"Completeness: %0.3f\"\n",
    "          % metrics.completeness_score(y, labels))\n",
    "    print(\"V-measure: %0.3f\"\n",
    "          % metrics.v_measure_score(y, labels))\n",
    "    print(\"Adjusted Rand Index: %0.3f\"\n",
    "          % metrics.adjusted_rand_score(y, labels))\n",
    "    print(\"Adjusted Mutual Information: %0.3f\"\n",
    "          % metrics.adjusted_mutual_info_score(y, labels))"
   ]
  },
  {
   "cell_type": "code",
   "execution_count": 119,
   "metadata": {},
   "outputs": [
    {
     "name": "stdout",
     "output_type": "stream",
     "text": [
      "Converged after 249 iterations.\n",
      "Silhouette Coefficient: 0.197\n",
      "Homogeneity: 0.362\n",
      "Completeness: 0.383\n",
      "V-measure: 0.372\n",
      "Adjusted Rand Index: -0.026\n",
      "Adjusted Mutual Information: 0.220\n"
     ]
    },
    {
     "name": "stderr",
     "output_type": "stream",
     "text": [
      "/home/misha/.local/lib/python3.7/site-packages/sklearn/metrics/cluster/supervised.py:746: FutureWarning: The behavior of AMI will change in version 0.22. To match the behavior of 'v_measure_score', AMI will use average_method='arithmetic' by default.\n",
      "  FutureWarning)\n"
     ]
    }
   ],
   "source": [
    "labels, vectors = get_affinity(cv_vec, damping=0.7, preference=-5, max_iter=400, verbose=2)\n",
    "#Да, параметры как в семинарской тетрадке, но так он даёт наиболее внятные результаты\n",
    "print_metrics(labels, vectors)"
   ]
  },
  {
   "cell_type": "code",
   "execution_count": 122,
   "metadata": {},
   "outputs": [
    {
     "data": {
      "text/html": [
       "<div>\n",
       "<style scoped>\n",
       "    .dataframe tbody tr th:only-of-type {\n",
       "        vertical-align: middle;\n",
       "    }\n",
       "\n",
       "    .dataframe tbody tr th {\n",
       "        vertical-align: top;\n",
       "    }\n",
       "\n",
       "    .dataframe thead th {\n",
       "        text-align: right;\n",
       "    }\n",
       "</style>\n",
       "<table border=\"1\" class=\"dataframe\">\n",
       "  <thead>\n",
       "    <tr style=\"text-align: right;\">\n",
       "      <th></th>\n",
       "      <th>title</th>\n",
       "      <th>label_test</th>\n",
       "      <th>label</th>\n",
       "    </tr>\n",
       "  </thead>\n",
       "  <tbody>\n",
       "    <tr>\n",
       "      <th>21126</th>\n",
       "      <td>Комбинезон-трансформер демисезонный</td>\n",
       "      <td>Детская одежда и обувь</td>\n",
       "      <td>15</td>\n",
       "    </tr>\n",
       "    <tr>\n",
       "      <th>84323</th>\n",
       "      <td>Комбинезон</td>\n",
       "      <td>Детская одежда и обувь</td>\n",
       "      <td>15</td>\n",
       "    </tr>\n",
       "    <tr>\n",
       "      <th>16726</th>\n",
       "      <td>Комбинезон kerry</td>\n",
       "      <td>Детская одежда и обувь</td>\n",
       "      <td>15</td>\n",
       "    </tr>\n",
       "    <tr>\n",
       "      <th>35710</th>\n",
       "      <td>Комбинезон</td>\n",
       "      <td>Детская одежда и обувь</td>\n",
       "      <td>15</td>\n",
       "    </tr>\n",
       "    <tr>\n",
       "      <th>59303</th>\n",
       "      <td>Комбинезон-трансформер</td>\n",
       "      <td>Детская одежда и обувь</td>\n",
       "      <td>15</td>\n",
       "    </tr>\n",
       "  </tbody>\n",
       "</table>\n",
       "</div>"
      ],
      "text/plain": [
       "                                     title              label_test  label\n",
       "21126  Комбинезон-трансформер демисезонный  Детская одежда и обувь     15\n",
       "84323                           Комбинезон  Детская одежда и обувь     15\n",
       "16726                     Комбинезон kerry  Детская одежда и обувь     15\n",
       "35710                           Комбинезон  Детская одежда и обувь     15\n",
       "59303               Комбинезон-трансформер  Детская одежда и обувь     15"
      ]
     },
     "execution_count": 122,
     "metadata": {},
     "output_type": "execute_result"
    }
   ],
   "source": [
    "df = pd.DataFrame({\n",
    "    'title': sample['title'],\n",
    "    'label_test': sample['category_name'],\n",
    "    'label': labels,\n",
    "})\n",
    "df[df['label'] == 15].head()"
   ]
  },
  {
   "cell_type": "code",
   "execution_count": 143,
   "metadata": {},
   "outputs": [
    {
     "name": "stdout",
     "output_type": "stream",
     "text": [
      "Converged after 19 iterations.\n",
      "Silhouette Coefficient: -0.336\n",
      "Homogeneity: 0.530\n",
      "Completeness: 0.299\n",
      "V-measure: 0.383\n",
      "Adjusted Rand Index: 0.016\n",
      "Adjusted Mutual Information: 0.044\n"
     ]
    },
    {
     "name": "stderr",
     "output_type": "stream",
     "text": [
      "/home/misha/.local/lib/python3.7/site-packages/sklearn/metrics/cluster/supervised.py:746: FutureWarning: The behavior of AMI will change in version 0.22. To match the behavior of 'v_measure_score', AMI will use average_method='arithmetic' by default.\n",
      "  FutureWarning)\n"
     ]
    }
   ],
   "source": [
    "labels, vectors = get_affinity(tfidf_vec, damping=0.8, preference=-7, max_iter=400, verbose=2)\n",
    "print_metrics(labels, vectors)"
   ]
  },
  {
   "cell_type": "code",
   "execution_count": 144,
   "metadata": {},
   "outputs": [
    {
     "data": {
      "text/html": [
       "<div>\n",
       "<style scoped>\n",
       "    .dataframe tbody tr th:only-of-type {\n",
       "        vertical-align: middle;\n",
       "    }\n",
       "\n",
       "    .dataframe tbody tr th {\n",
       "        vertical-align: top;\n",
       "    }\n",
       "\n",
       "    .dataframe thead th {\n",
       "        text-align: right;\n",
       "    }\n",
       "</style>\n",
       "<table border=\"1\" class=\"dataframe\">\n",
       "  <thead>\n",
       "    <tr style=\"text-align: right;\">\n",
       "      <th></th>\n",
       "      <th>title</th>\n",
       "      <th>label_test</th>\n",
       "      <th>label</th>\n",
       "    </tr>\n",
       "  </thead>\n",
       "  <tbody>\n",
       "    <tr>\n",
       "      <th>29650</th>\n",
       "      <td>Плуг нтз 82</td>\n",
       "      <td>Грузовики и спецтехника</td>\n",
       "      <td>5</td>\n",
       "    </tr>\n",
       "    <tr>\n",
       "      <th>24999</th>\n",
       "      <td>Грузчики</td>\n",
       "      <td>Предложение услуг</td>\n",
       "      <td>5</td>\n",
       "    </tr>\n",
       "    <tr>\n",
       "      <th>137421</th>\n",
       "      <td>Кожаная куртка -двойка</td>\n",
       "      <td>Одежда, обувь, аксессуары</td>\n",
       "      <td>5</td>\n",
       "    </tr>\n",
       "    <tr>\n",
       "      <th>124858</th>\n",
       "      <td>Дом 120 м² на участке 15 сот.</td>\n",
       "      <td>Дома, дачи, коттеджи</td>\n",
       "      <td>5</td>\n",
       "    </tr>\n",
       "    <tr>\n",
       "      <th>44916</th>\n",
       "      <td>Автомат по продаже кукол</td>\n",
       "      <td>Оборудование для бизнеса</td>\n",
       "      <td>5</td>\n",
       "    </tr>\n",
       "  </tbody>\n",
       "</table>\n",
       "</div>"
      ],
      "text/plain": [
       "                                title                 label_test  label\n",
       "29650                     Плуг нтз 82    Грузовики и спецтехника      5\n",
       "24999                        Грузчики          Предложение услуг      5\n",
       "137421         Кожаная куртка -двойка  Одежда, обувь, аксессуары      5\n",
       "124858  Дом 120 м² на участке 15 сот.       Дома, дачи, коттеджи      5\n",
       "44916        Автомат по продаже кукол   Оборудование для бизнеса      5"
      ]
     },
     "execution_count": 144,
     "metadata": {},
     "output_type": "execute_result"
    }
   ],
   "source": [
    "df = pd.DataFrame({\n",
    "    'title': sample['title'],\n",
    "    'label_test': sample['category_name'],\n",
    "    'label': labels,\n",
    "})\n",
    "df[df['label'] == 5].head()"
   ]
  },
  {
   "cell_type": "markdown",
   "metadata": {},
   "source": [
    "### Вывод по `AffinityPropagation`\n",
    "С `CountVectorizer` результаты гораздо более внятные. По метрикам не очень понятно. Они больше зависят от параметров обучения, чем от того, какой там тип векторов."
   ]
  },
  {
   "cell_type": "code",
   "execution_count": 154,
   "metadata": {},
   "outputs": [
    {
     "name": "stdout",
     "output_type": "stream",
     "text": [
      "Silhouette Coefficient: 0.187\n",
      "Homogeneity: 0.322\n",
      "Completeness: 0.374\n",
      "V-measure: 0.346\n",
      "Adjusted Rand Index: -0.025\n",
      "Adjusted Mutual Information: 0.205\n"
     ]
    },
    {
     "name": "stderr",
     "output_type": "stream",
     "text": [
      "/home/misha/.local/lib/python3.7/site-packages/sklearn/metrics/cluster/supervised.py:746: FutureWarning: The behavior of AMI will change in version 0.22. To match the behavior of 'v_measure_score', AMI will use average_method='arithmetic' by default.\n",
      "  FutureWarning)\n"
     ]
    }
   ],
   "source": [
    "labels, vectors = get_agglomerative(cv_vec, n_clusters=50)\n",
    "# Кластеров лучше брать меньше\n",
    "# Метрики будут чуть ниже, зато результат красивее\n",
    "# Если кластеров много, он просто начинает выискивать по словам\n",
    "print_metrics(labels, vectors)"
   ]
  },
  {
   "cell_type": "code",
   "execution_count": 157,
   "metadata": {},
   "outputs": [
    {
     "data": {
      "text/html": [
       "<div>\n",
       "<style scoped>\n",
       "    .dataframe tbody tr th:only-of-type {\n",
       "        vertical-align: middle;\n",
       "    }\n",
       "\n",
       "    .dataframe tbody tr th {\n",
       "        vertical-align: top;\n",
       "    }\n",
       "\n",
       "    .dataframe thead th {\n",
       "        text-align: right;\n",
       "    }\n",
       "</style>\n",
       "<table border=\"1\" class=\"dataframe\">\n",
       "  <thead>\n",
       "    <tr style=\"text-align: right;\">\n",
       "      <th></th>\n",
       "      <th>title</th>\n",
       "      <th>label_test</th>\n",
       "      <th>label</th>\n",
       "    </tr>\n",
       "  </thead>\n",
       "  <tbody>\n",
       "    <tr>\n",
       "      <th>41388</th>\n",
       "      <td>Платье для невесты</td>\n",
       "      <td>Одежда, обувь, аксессуары</td>\n",
       "      <td>0</td>\n",
       "    </tr>\n",
       "    <tr>\n",
       "      <th>109338</th>\n",
       "      <td>Куртка для девочек</td>\n",
       "      <td>Детская одежда и обувь</td>\n",
       "      <td>0</td>\n",
       "    </tr>\n",
       "    <tr>\n",
       "      <th>14702</th>\n",
       "      <td>Ботиночки для девочки</td>\n",
       "      <td>Детская одежда и обувь</td>\n",
       "      <td>0</td>\n",
       "    </tr>\n",
       "    <tr>\n",
       "      <th>60032</th>\n",
       "      <td>Платье для принцессы</td>\n",
       "      <td>Детская одежда и обувь</td>\n",
       "      <td>0</td>\n",
       "    </tr>\n",
       "    <tr>\n",
       "      <th>128938</th>\n",
       "      <td>Ролики для девочки р. 27-30</td>\n",
       "      <td>Спорт и отдых</td>\n",
       "      <td>0</td>\n",
       "    </tr>\n",
       "  </tbody>\n",
       "</table>\n",
       "</div>"
      ],
      "text/plain": [
       "                              title                 label_test  label\n",
       "41388            Платье для невесты  Одежда, обувь, аксессуары      0\n",
       "109338           Куртка для девочек     Детская одежда и обувь      0\n",
       "14702         Ботиночки для девочки     Детская одежда и обувь      0\n",
       "60032          Платье для принцессы     Детская одежда и обувь      0\n",
       "128938  Ролики для девочки р. 27-30              Спорт и отдых      0"
      ]
     },
     "execution_count": 157,
     "metadata": {},
     "output_type": "execute_result"
    }
   ],
   "source": [
    "df = pd.DataFrame({\n",
    "    'title': sample['title'],\n",
    "    'label_test': sample['category_name'],\n",
    "    'label': labels,\n",
    "})\n",
    "df[df['label'] == 0].head()"
   ]
  },
  {
   "cell_type": "code",
   "execution_count": 158,
   "metadata": {},
   "outputs": [
    {
     "name": "stdout",
     "output_type": "stream",
     "text": [
      "Silhouette Coefficient: 0.222\n",
      "Homogeneity: 0.328\n",
      "Completeness: 0.371\n",
      "V-measure: 0.348\n",
      "Adjusted Rand Index: -0.025\n",
      "Adjusted Mutual Information: 0.208\n"
     ]
    },
    {
     "name": "stderr",
     "output_type": "stream",
     "text": [
      "/home/misha/.local/lib/python3.7/site-packages/sklearn/metrics/cluster/supervised.py:746: FutureWarning: The behavior of AMI will change in version 0.22. To match the behavior of 'v_measure_score', AMI will use average_method='arithmetic' by default.\n",
      "  FutureWarning)\n"
     ]
    },
    {
     "data": {
      "text/html": [
       "<div>\n",
       "<style scoped>\n",
       "    .dataframe tbody tr th:only-of-type {\n",
       "        vertical-align: middle;\n",
       "    }\n",
       "\n",
       "    .dataframe tbody tr th {\n",
       "        vertical-align: top;\n",
       "    }\n",
       "\n",
       "    .dataframe thead th {\n",
       "        text-align: right;\n",
       "    }\n",
       "</style>\n",
       "<table border=\"1\" class=\"dataframe\">\n",
       "  <thead>\n",
       "    <tr style=\"text-align: right;\">\n",
       "      <th></th>\n",
       "      <th>title</th>\n",
       "      <th>label_test</th>\n",
       "      <th>label</th>\n",
       "    </tr>\n",
       "  </thead>\n",
       "  <tbody>\n",
       "    <tr>\n",
       "      <th>50790</th>\n",
       "      <td>Ноутбук Sony Vaio</td>\n",
       "      <td>Ноутбуки</td>\n",
       "      <td>0</td>\n",
       "    </tr>\n",
       "    <tr>\n",
       "      <th>131412</th>\n",
       "      <td>Куплю дачу</td>\n",
       "      <td>Дома, дачи, коттеджи</td>\n",
       "      <td>0</td>\n",
       "    </tr>\n",
       "    <tr>\n",
       "      <th>23986</th>\n",
       "      <td>Отмостки, дорожки, площадки</td>\n",
       "      <td>Предложение услуг</td>\n",
       "      <td>0</td>\n",
       "    </tr>\n",
       "    <tr>\n",
       "      <th>72830</th>\n",
       "      <td>Нарды</td>\n",
       "      <td>Спорт и отдых</td>\n",
       "      <td>0</td>\n",
       "    </tr>\n",
       "    <tr>\n",
       "      <th>89581</th>\n",
       "      <td>Маз-543203-2122</td>\n",
       "      <td>Грузовики и спецтехника</td>\n",
       "      <td>0</td>\n",
       "    </tr>\n",
       "  </tbody>\n",
       "</table>\n",
       "</div>"
      ],
      "text/plain": [
       "                              title               label_test  label\n",
       "50790             Ноутбук Sony Vaio                 Ноутбуки      0\n",
       "131412                   Куплю дачу     Дома, дачи, коттеджи      0\n",
       "23986   Отмостки, дорожки, площадки        Предложение услуг      0\n",
       "72830                         Нарды            Спорт и отдых      0\n",
       "89581               Маз-543203-2122  Грузовики и спецтехника      0"
      ]
     },
     "execution_count": 158,
     "metadata": {},
     "output_type": "execute_result"
    }
   ],
   "source": [
    "labels, vectors = get_agglomerative(tfidf_vec, n_clusters=50)\n",
    "print_metrics(labels, vectors)"
   ]
  },
  {
   "cell_type": "code",
   "execution_count": 160,
   "metadata": {},
   "outputs": [
    {
     "data": {
      "text/html": [
       "<div>\n",
       "<style scoped>\n",
       "    .dataframe tbody tr th:only-of-type {\n",
       "        vertical-align: middle;\n",
       "    }\n",
       "\n",
       "    .dataframe tbody tr th {\n",
       "        vertical-align: top;\n",
       "    }\n",
       "\n",
       "    .dataframe thead th {\n",
       "        text-align: right;\n",
       "    }\n",
       "</style>\n",
       "<table border=\"1\" class=\"dataframe\">\n",
       "  <thead>\n",
       "    <tr style=\"text-align: right;\">\n",
       "      <th></th>\n",
       "      <th>title</th>\n",
       "      <th>label_test</th>\n",
       "      <th>label</th>\n",
       "    </tr>\n",
       "  </thead>\n",
       "  <tbody>\n",
       "    <tr>\n",
       "      <th>21007</th>\n",
       "      <td>Демисезонный комплект для мальчика</td>\n",
       "      <td>Детская одежда и обувь</td>\n",
       "      <td>1</td>\n",
       "    </tr>\n",
       "    <tr>\n",
       "      <th>87866</th>\n",
       "      <td>Костюм для мальчика классический104 см</td>\n",
       "      <td>Детская одежда и обувь</td>\n",
       "      <td>1</td>\n",
       "    </tr>\n",
       "    <tr>\n",
       "      <th>54986</th>\n",
       "      <td>Свитер зимний</td>\n",
       "      <td>Одежда, обувь, аксессуары</td>\n",
       "      <td>1</td>\n",
       "    </tr>\n",
       "    <tr>\n",
       "      <th>202</th>\n",
       "      <td>Комплект мама+дочка</td>\n",
       "      <td>Детская одежда и обувь</td>\n",
       "      <td>1</td>\n",
       "    </tr>\n",
       "    <tr>\n",
       "      <th>24278</th>\n",
       "      <td>Брюки на мальчика</td>\n",
       "      <td>Детская одежда и обувь</td>\n",
       "      <td>1</td>\n",
       "    </tr>\n",
       "  </tbody>\n",
       "</table>\n",
       "</div>"
      ],
      "text/plain": [
       "                                        title                 label_test  \\\n",
       "21007      Демисезонный комплект для мальчика     Детская одежда и обувь   \n",
       "87866  Костюм для мальчика классический104 см     Детская одежда и обувь   \n",
       "54986                           Свитер зимний  Одежда, обувь, аксессуары   \n",
       "202                       Комплект мама+дочка     Детская одежда и обувь   \n",
       "24278                       Брюки на мальчика     Детская одежда и обувь   \n",
       "\n",
       "       label  \n",
       "21007      1  \n",
       "87866      1  \n",
       "54986      1  \n",
       "202        1  \n",
       "24278      1  "
      ]
     },
     "execution_count": 160,
     "metadata": {},
     "output_type": "execute_result"
    }
   ],
   "source": [
    "df = pd.DataFrame({\n",
    "    'title': sample['title'],\n",
    "    'label_test': sample['category_name'],\n",
    "    'label': labels,\n",
    "})\n",
    "df[df['label'] == 1].head()"
   ]
  },
  {
   "cell_type": "markdown",
   "metadata": {},
   "source": [
    "### Вывод по `AgglomerativeClustering`\n",
    "Оба вырианта векторизации работают хорошо. У _tfidf_ чуть лучше метрики, так что формальную победу можно отдать ему."
   ]
  },
  {
   "cell_type": "code",
   "execution_count": 168,
   "metadata": {},
   "outputs": [
    {
     "name": "stdout",
     "output_type": "stream",
     "text": [
      "Silhouette Coefficient: 0.040\n",
      "Homogeneity: 0.121\n",
      "Completeness: 0.261\n",
      "V-measure: 0.165\n",
      "Adjusted Rand Index: 0.006\n",
      "Adjusted Mutual Information: 0.081\n"
     ]
    },
    {
     "name": "stderr",
     "output_type": "stream",
     "text": [
      "/home/misha/.local/lib/python3.7/site-packages/sklearn/metrics/cluster/supervised.py:746: FutureWarning: The behavior of AMI will change in version 0.22. To match the behavior of 'v_measure_score', AMI will use average_method='arithmetic' by default.\n",
      "  FutureWarning)\n"
     ]
    },
    {
     "data": {
      "text/html": [
       "<div>\n",
       "<style scoped>\n",
       "    .dataframe tbody tr th:only-of-type {\n",
       "        vertical-align: middle;\n",
       "    }\n",
       "\n",
       "    .dataframe tbody tr th {\n",
       "        vertical-align: top;\n",
       "    }\n",
       "\n",
       "    .dataframe thead th {\n",
       "        text-align: right;\n",
       "    }\n",
       "</style>\n",
       "<table border=\"1\" class=\"dataframe\">\n",
       "  <thead>\n",
       "    <tr style=\"text-align: right;\">\n",
       "      <th></th>\n",
       "      <th>title</th>\n",
       "      <th>label_test</th>\n",
       "      <th>label</th>\n",
       "    </tr>\n",
       "  </thead>\n",
       "  <tbody>\n",
       "    <tr>\n",
       "      <th>108508</th>\n",
       "      <td>Продам духи</td>\n",
       "      <td>Красота и здоровье</td>\n",
       "      <td>1</td>\n",
       "    </tr>\n",
       "    <tr>\n",
       "      <th>2589</th>\n",
       "      <td>Продам пиджак</td>\n",
       "      <td>Одежда, обувь, аксессуары</td>\n",
       "      <td>1</td>\n",
       "    </tr>\n",
       "    <tr>\n",
       "      <th>127833</th>\n",
       "      <td>Продам вазу</td>\n",
       "      <td>Мебель и интерьер</td>\n",
       "      <td>1</td>\n",
       "    </tr>\n",
       "    <tr>\n",
       "      <th>56370</th>\n",
       "      <td>Продам защитное стекло xiaomi redmi 3 3s 3x 3 pro</td>\n",
       "      <td>Телефоны</td>\n",
       "      <td>1</td>\n",
       "    </tr>\n",
       "    <tr>\n",
       "      <th>101142</th>\n",
       "      <td>Продам сланцы Крокс</td>\n",
       "      <td>Одежда, обувь, аксессуары</td>\n",
       "      <td>1</td>\n",
       "    </tr>\n",
       "  </tbody>\n",
       "</table>\n",
       "</div>"
      ],
      "text/plain": [
       "                                                    title  \\\n",
       "108508                                        Продам духи   \n",
       "2589                                        Продам пиджак   \n",
       "127833                                        Продам вазу   \n",
       "56370   Продам защитное стекло xiaomi redmi 3 3s 3x 3 pro   \n",
       "101142                                Продам сланцы Крокс   \n",
       "\n",
       "                       label_test  label  \n",
       "108508         Красота и здоровье      1  \n",
       "2589    Одежда, обувь, аксессуары      1  \n",
       "127833          Мебель и интерьер      1  \n",
       "56370                    Телефоны      1  \n",
       "101142  Одежда, обувь, аксессуары      1  "
      ]
     },
     "execution_count": 168,
     "metadata": {},
     "output_type": "execute_result"
    }
   ],
   "source": [
    "labels, vectors = get_dbscan(cv_vec, min_samples=10, eps=0.3)\n",
    "print_metrics(labels, vectors)\n",
    "df = pd.DataFrame({\n",
    "    'title': sample['title'],\n",
    "    'label_test': sample['category_name'],\n",
    "    'label': labels,\n",
    "})\n",
    "df[df['label'] == 1].head()"
   ]
  },
  {
   "cell_type": "code",
   "execution_count": 170,
   "metadata": {},
   "outputs": [
    {
     "name": "stdout",
     "output_type": "stream",
     "text": [
      "Silhouette Coefficient: 0.099\n",
      "Homogeneity: 0.135\n",
      "Completeness: 0.302\n",
      "V-measure: 0.186\n",
      "Adjusted Rand Index: -0.005\n",
      "Adjusted Mutual Information: 0.087\n"
     ]
    },
    {
     "name": "stderr",
     "output_type": "stream",
     "text": [
      "/home/misha/.local/lib/python3.7/site-packages/sklearn/metrics/cluster/supervised.py:746: FutureWarning: The behavior of AMI will change in version 0.22. To match the behavior of 'v_measure_score', AMI will use average_method='arithmetic' by default.\n",
      "  FutureWarning)\n"
     ]
    },
    {
     "data": {
      "text/html": [
       "<div>\n",
       "<style scoped>\n",
       "    .dataframe tbody tr th:only-of-type {\n",
       "        vertical-align: middle;\n",
       "    }\n",
       "\n",
       "    .dataframe tbody tr th {\n",
       "        vertical-align: top;\n",
       "    }\n",
       "\n",
       "    .dataframe thead th {\n",
       "        text-align: right;\n",
       "    }\n",
       "</style>\n",
       "<table border=\"1\" class=\"dataframe\">\n",
       "  <thead>\n",
       "    <tr style=\"text-align: right;\">\n",
       "      <th></th>\n",
       "      <th>title</th>\n",
       "      <th>label_test</th>\n",
       "      <th>label</th>\n",
       "    </tr>\n",
       "  </thead>\n",
       "  <tbody>\n",
       "    <tr>\n",
       "      <th>108508</th>\n",
       "      <td>Продам духи</td>\n",
       "      <td>Красота и здоровье</td>\n",
       "      <td>1</td>\n",
       "    </tr>\n",
       "    <tr>\n",
       "      <th>127833</th>\n",
       "      <td>Продам вазу</td>\n",
       "      <td>Мебель и интерьер</td>\n",
       "      <td>1</td>\n",
       "    </tr>\n",
       "    <tr>\n",
       "      <th>4446</th>\n",
       "      <td>Продам барана</td>\n",
       "      <td>Другие животные</td>\n",
       "      <td>1</td>\n",
       "    </tr>\n",
       "    <tr>\n",
       "      <th>138706</th>\n",
       "      <td>Продам электрогенератор</td>\n",
       "      <td>Ремонт и строительство</td>\n",
       "      <td>1</td>\n",
       "    </tr>\n",
       "    <tr>\n",
       "      <th>34457</th>\n",
       "      <td>Продам хипсит</td>\n",
       "      <td>Товары для детей и игрушки</td>\n",
       "      <td>1</td>\n",
       "    </tr>\n",
       "  </tbody>\n",
       "</table>\n",
       "</div>"
      ],
      "text/plain": [
       "                          title                  label_test  label\n",
       "108508              Продам духи          Красота и здоровье      1\n",
       "127833              Продам вазу           Мебель и интерьер      1\n",
       "4446              Продам барана             Другие животные      1\n",
       "138706  Продам электрогенератор      Ремонт и строительство      1\n",
       "34457             Продам хипсит  Товары для детей и игрушки      1"
      ]
     },
     "execution_count": 170,
     "metadata": {},
     "output_type": "execute_result"
    }
   ],
   "source": [
    "labels, vectors = get_dbscan(tfidf_vec, min_samples=10, eps=0.3)\n",
    "print_metrics(labels, vectors)\n",
    "df = pd.DataFrame({\n",
    "    'title': sample['title'],\n",
    "    'label_test': sample['category_name'],\n",
    "    'label': labels,\n",
    "})\n",
    "df[df['label'] == 1].head()"
   ]
  },
  {
   "cell_type": "markdown",
   "metadata": {},
   "source": [
    "### Вывод по `DBSCAN`\n",
    "Обы ищут по словам, так себе. Формальная победа за _tfidf_"
   ]
  },
  {
   "cell_type": "markdown",
   "metadata": {},
   "source": [
    "# Задание 2"
   ]
  },
  {
   "cell_type": "code",
   "execution_count": 172,
   "metadata": {},
   "outputs": [],
   "source": [
    "svd = TruncatedSVD(50)\n",
    "vectors_svd = svd.fit_transform(vectors)\n",
    "\n",
    "nmf = NMF(50)\n",
    "vectors_nmf = nmf.fit_transform(vectors)"
   ]
  },
  {
   "cell_type": "markdown",
   "metadata": {},
   "source": [
    "### `AgglomerativeClustering`"
   ]
  },
  {
   "cell_type": "code",
   "execution_count": 181,
   "metadata": {},
   "outputs": [],
   "source": [
    "cluster = AgglomerativeClustering(n_clusters=100)\n",
    "cluster.fit(vectors_svd)\n",
    "labels = cluster.labels_"
   ]
  },
  {
   "cell_type": "code",
   "execution_count": 182,
   "metadata": {},
   "outputs": [
    {
     "name": "stdout",
     "output_type": "stream",
     "text": [
      "Silhouette Coefficient: 0.234\n",
      "Homogeneity: 0.393\n",
      "Completeness: 0.372\n",
      "V-measure: 0.382\n",
      "Adjusted Rand Index: -0.028\n",
      "Adjusted Mutual Information: 0.202\n"
     ]
    },
    {
     "name": "stderr",
     "output_type": "stream",
     "text": [
      "/home/misha/.local/lib/python3.7/site-packages/sklearn/metrics/cluster/supervised.py:746: FutureWarning: The behavior of AMI will change in version 0.22. To match the behavior of 'v_measure_score', AMI will use average_method='arithmetic' by default.\n",
      "  FutureWarning)\n"
     ]
    },
    {
     "data": {
      "text/html": [
       "<div>\n",
       "<style scoped>\n",
       "    .dataframe tbody tr th:only-of-type {\n",
       "        vertical-align: middle;\n",
       "    }\n",
       "\n",
       "    .dataframe tbody tr th {\n",
       "        vertical-align: top;\n",
       "    }\n",
       "\n",
       "    .dataframe thead th {\n",
       "        text-align: right;\n",
       "    }\n",
       "</style>\n",
       "<table border=\"1\" class=\"dataframe\">\n",
       "  <thead>\n",
       "    <tr style=\"text-align: right;\">\n",
       "      <th></th>\n",
       "      <th>title</th>\n",
       "      <th>label_test</th>\n",
       "      <th>label</th>\n",
       "    </tr>\n",
       "  </thead>\n",
       "  <tbody>\n",
       "    <tr>\n",
       "      <th>96759</th>\n",
       "      <td>Ортопедические сандали</td>\n",
       "      <td>Детская одежда и обувь</td>\n",
       "      <td>5</td>\n",
       "    </tr>\n",
       "    <tr>\n",
       "      <th>35528</th>\n",
       "      <td>Сандали</td>\n",
       "      <td>Детская одежда и обувь</td>\n",
       "      <td>5</td>\n",
       "    </tr>\n",
       "    <tr>\n",
       "      <th>47105</th>\n",
       "      <td>Сандали Milton, р. 21, цвет хаки</td>\n",
       "      <td>Детская одежда и обувь</td>\n",
       "      <td>5</td>\n",
       "    </tr>\n",
       "    <tr>\n",
       "      <th>88286</th>\n",
       "      <td>Пляжная обувь,сандали резиновые</td>\n",
       "      <td>Детская одежда и обувь</td>\n",
       "      <td>5</td>\n",
       "    </tr>\n",
       "    <tr>\n",
       "      <th>63463</th>\n",
       "      <td>Сандали 23 размер</td>\n",
       "      <td>Детская одежда и обувь</td>\n",
       "      <td>5</td>\n",
       "    </tr>\n",
       "  </tbody>\n",
       "</table>\n",
       "</div>"
      ],
      "text/plain": [
       "                                  title              label_test  label\n",
       "96759            Ортопедические сандали  Детская одежда и обувь      5\n",
       "35528                           Сандали  Детская одежда и обувь      5\n",
       "47105  Сандали Milton, р. 21, цвет хаки  Детская одежда и обувь      5\n",
       "88286   Пляжная обувь,сандали резиновые  Детская одежда и обувь      5\n",
       "63463                 Сандали 23 размер  Детская одежда и обувь      5"
      ]
     },
     "execution_count": 182,
     "metadata": {},
     "output_type": "execute_result"
    }
   ],
   "source": [
    "print_metrics(labels, vectors)\n",
    "df = pd.DataFrame({\n",
    "    'title': sample['title'],\n",
    "    'label_test': sample['category_name'],\n",
    "    'label': labels,\n",
    "})\n",
    "df[df['label'] == 5].head()"
   ]
  },
  {
   "cell_type": "code",
   "execution_count": 183,
   "metadata": {},
   "outputs": [],
   "source": [
    "cluster = AgglomerativeClustering(n_clusters=100)\n",
    "cluster.fit(vectors_nmf)\n",
    "labels = cluster.labels_"
   ]
  },
  {
   "cell_type": "code",
   "execution_count": 185,
   "metadata": {},
   "outputs": [
    {
     "name": "stdout",
     "output_type": "stream",
     "text": [
      "Silhouette Coefficient: 0.224\n",
      "Homogeneity: 0.385\n",
      "Completeness: 0.370\n",
      "V-measure: 0.377\n",
      "Adjusted Rand Index: -0.029\n",
      "Adjusted Mutual Information: 0.198\n"
     ]
    },
    {
     "name": "stderr",
     "output_type": "stream",
     "text": [
      "/home/misha/.local/lib/python3.7/site-packages/sklearn/metrics/cluster/supervised.py:746: FutureWarning: The behavior of AMI will change in version 0.22. To match the behavior of 'v_measure_score', AMI will use average_method='arithmetic' by default.\n",
      "  FutureWarning)\n"
     ]
    },
    {
     "data": {
      "text/html": [
       "<div>\n",
       "<style scoped>\n",
       "    .dataframe tbody tr th:only-of-type {\n",
       "        vertical-align: middle;\n",
       "    }\n",
       "\n",
       "    .dataframe tbody tr th {\n",
       "        vertical-align: top;\n",
       "    }\n",
       "\n",
       "    .dataframe thead th {\n",
       "        text-align: right;\n",
       "    }\n",
       "</style>\n",
       "<table border=\"1\" class=\"dataframe\">\n",
       "  <thead>\n",
       "    <tr style=\"text-align: right;\">\n",
       "      <th></th>\n",
       "      <th>title</th>\n",
       "      <th>label_test</th>\n",
       "      <th>label</th>\n",
       "    </tr>\n",
       "  </thead>\n",
       "  <tbody>\n",
       "    <tr>\n",
       "      <th>48492</th>\n",
       "      <td>Платье 42 р-р</td>\n",
       "      <td>Одежда, обувь, аксессуары</td>\n",
       "      <td>5</td>\n",
       "    </tr>\n",
       "    <tr>\n",
       "      <th>126702</th>\n",
       "      <td>Вечернее платье</td>\n",
       "      <td>Одежда, обувь, аксессуары</td>\n",
       "      <td>5</td>\n",
       "    </tr>\n",
       "    <tr>\n",
       "      <th>136467</th>\n",
       "      <td>Платье детское</td>\n",
       "      <td>Детская одежда и обувь</td>\n",
       "      <td>5</td>\n",
       "    </tr>\n",
       "    <tr>\n",
       "      <th>40384</th>\n",
       "      <td>Летнее платье</td>\n",
       "      <td>Одежда, обувь, аксессуары</td>\n",
       "      <td>5</td>\n",
       "    </tr>\n",
       "    <tr>\n",
       "      <th>13135</th>\n",
       "      <td>Вечернее платье</td>\n",
       "      <td>Одежда, обувь, аксессуары</td>\n",
       "      <td>5</td>\n",
       "    </tr>\n",
       "  </tbody>\n",
       "</table>\n",
       "</div>"
      ],
      "text/plain": [
       "                  title                 label_test  label\n",
       "48492     Платье 42 р-р  Одежда, обувь, аксессуары      5\n",
       "126702  Вечернее платье  Одежда, обувь, аксессуары      5\n",
       "136467   Платье детское     Детская одежда и обувь      5\n",
       "40384     Летнее платье  Одежда, обувь, аксессуары      5\n",
       "13135   Вечернее платье  Одежда, обувь, аксессуары      5"
      ]
     },
     "execution_count": 185,
     "metadata": {},
     "output_type": "execute_result"
    }
   ],
   "source": [
    "print_metrics(labels, vectors)\n",
    "df = pd.DataFrame({\n",
    "    'title': sample['title'],\n",
    "    'label_test': sample['category_name'],\n",
    "    'label': labels,\n",
    "})\n",
    "df[df['label'] == 5].head()"
   ]
  },
  {
   "cell_type": "markdown",
   "metadata": {},
   "source": [
    "### `DBSCAN`"
   ]
  },
  {
   "cell_type": "code",
   "execution_count": 187,
   "metadata": {},
   "outputs": [],
   "source": [
    "cluster = DBSCAN(min_samples=10, eps=0.3)\n",
    "cluster.fit(vectors_svd)\n",
    "labels = cluster.labels_"
   ]
  },
  {
   "cell_type": "code",
   "execution_count": 188,
   "metadata": {},
   "outputs": [
    {
     "name": "stdout",
     "output_type": "stream",
     "text": [
      "Silhouette Coefficient: 0.098\n",
      "Homogeneity: 0.133\n",
      "Completeness: 0.298\n",
      "V-measure: 0.184\n",
      "Adjusted Rand Index: -0.005\n",
      "Adjusted Mutual Information: 0.086\n"
     ]
    },
    {
     "name": "stderr",
     "output_type": "stream",
     "text": [
      "/home/misha/.local/lib/python3.7/site-packages/sklearn/metrics/cluster/supervised.py:746: FutureWarning: The behavior of AMI will change in version 0.22. To match the behavior of 'v_measure_score', AMI will use average_method='arithmetic' by default.\n",
      "  FutureWarning)\n"
     ]
    },
    {
     "data": {
      "text/html": [
       "<div>\n",
       "<style scoped>\n",
       "    .dataframe tbody tr th:only-of-type {\n",
       "        vertical-align: middle;\n",
       "    }\n",
       "\n",
       "    .dataframe tbody tr th {\n",
       "        vertical-align: top;\n",
       "    }\n",
       "\n",
       "    .dataframe thead th {\n",
       "        text-align: right;\n",
       "    }\n",
       "</style>\n",
       "<table border=\"1\" class=\"dataframe\">\n",
       "  <thead>\n",
       "    <tr style=\"text-align: right;\">\n",
       "      <th></th>\n",
       "      <th>title</th>\n",
       "      <th>label_test</th>\n",
       "      <th>label</th>\n",
       "    </tr>\n",
       "  </thead>\n",
       "  <tbody>\n",
       "    <tr>\n",
       "      <th>114620</th>\n",
       "      <td>Куртка демисезонная</td>\n",
       "      <td>Одежда, обувь, аксессуары</td>\n",
       "      <td>5</td>\n",
       "    </tr>\n",
       "    <tr>\n",
       "      <th>55225</th>\n",
       "      <td>Куртка сноубордическая exxtasy (42-44)</td>\n",
       "      <td>Одежда, обувь, аксессуары</td>\n",
       "      <td>5</td>\n",
       "    </tr>\n",
       "    <tr>\n",
       "      <th>60865</th>\n",
       "      <td>Куртка джинсовая Benetton</td>\n",
       "      <td>Детская одежда и обувь</td>\n",
       "      <td>5</td>\n",
       "    </tr>\n",
       "    <tr>\n",
       "      <th>31622</th>\n",
       "      <td>Куртка бомбер</td>\n",
       "      <td>Одежда, обувь, аксессуары</td>\n",
       "      <td>5</td>\n",
       "    </tr>\n",
       "    <tr>\n",
       "      <th>27808</th>\n",
       "      <td>Куртка zara</td>\n",
       "      <td>Одежда, обувь, аксессуары</td>\n",
       "      <td>5</td>\n",
       "    </tr>\n",
       "  </tbody>\n",
       "</table>\n",
       "</div>"
      ],
      "text/plain": [
       "                                         title                 label_test  \\\n",
       "114620                     Куртка демисезонная  Одежда, обувь, аксессуары   \n",
       "55225   Куртка сноубордическая exxtasy (42-44)  Одежда, обувь, аксессуары   \n",
       "60865                Куртка джинсовая Benetton     Детская одежда и обувь   \n",
       "31622                            Куртка бомбер  Одежда, обувь, аксессуары   \n",
       "27808                              Куртка zara  Одежда, обувь, аксессуары   \n",
       "\n",
       "        label  \n",
       "114620      5  \n",
       "55225       5  \n",
       "60865       5  \n",
       "31622       5  \n",
       "27808       5  "
      ]
     },
     "execution_count": 188,
     "metadata": {},
     "output_type": "execute_result"
    }
   ],
   "source": [
    "print_metrics(labels, vectors)\n",
    "df = pd.DataFrame({\n",
    "    'title': sample['title'],\n",
    "    'label_test': sample['category_name'],\n",
    "    'label': labels,\n",
    "})\n",
    "df[df['label'] == 5].head()"
   ]
  },
  {
   "cell_type": "code",
   "execution_count": 189,
   "metadata": {},
   "outputs": [],
   "source": [
    "cluster = DBSCAN(min_samples=10, eps=0.3)\n",
    "cluster.fit(vectors_nmf)\n",
    "labels = cluster.labels_"
   ]
  },
  {
   "cell_type": "code",
   "execution_count": 191,
   "metadata": {},
   "outputs": [
    {
     "name": "stdout",
     "output_type": "stream",
     "text": [
      "Silhouette Coefficient: 0.085\n",
      "Homogeneity: 0.023\n",
      "Completeness: 0.256\n",
      "V-measure: 0.042\n",
      "Adjusted Rand Index: -0.012\n",
      "Adjusted Mutual Information: 0.010\n"
     ]
    },
    {
     "name": "stderr",
     "output_type": "stream",
     "text": [
      "/home/misha/.local/lib/python3.7/site-packages/sklearn/metrics/cluster/supervised.py:746: FutureWarning: The behavior of AMI will change in version 0.22. To match the behavior of 'v_measure_score', AMI will use average_method='arithmetic' by default.\n",
      "  FutureWarning)\n"
     ]
    },
    {
     "data": {
      "text/html": [
       "<div>\n",
       "<style scoped>\n",
       "    .dataframe tbody tr th:only-of-type {\n",
       "        vertical-align: middle;\n",
       "    }\n",
       "\n",
       "    .dataframe tbody tr th {\n",
       "        vertical-align: top;\n",
       "    }\n",
       "\n",
       "    .dataframe thead th {\n",
       "        text-align: right;\n",
       "    }\n",
       "</style>\n",
       "<table border=\"1\" class=\"dataframe\">\n",
       "  <thead>\n",
       "    <tr style=\"text-align: right;\">\n",
       "      <th></th>\n",
       "      <th>title</th>\n",
       "      <th>label_test</th>\n",
       "      <th>label</th>\n",
       "    </tr>\n",
       "  </thead>\n",
       "  <tbody>\n",
       "    <tr>\n",
       "      <th>112493</th>\n",
       "      <td>Белые босоножки</td>\n",
       "      <td>Одежда, обувь, аксессуары</td>\n",
       "      <td>1</td>\n",
       "    </tr>\n",
       "    <tr>\n",
       "      <th>127816</th>\n",
       "      <td>Босоножки</td>\n",
       "      <td>Детская одежда и обувь</td>\n",
       "      <td>1</td>\n",
       "    </tr>\n",
       "    <tr>\n",
       "      <th>86503</th>\n",
       "      <td>Анатомические Босоножки/ сандалии Тотто</td>\n",
       "      <td>Детская одежда и обувь</td>\n",
       "      <td>1</td>\n",
       "    </tr>\n",
       "    <tr>\n",
       "      <th>91071</th>\n",
       "      <td>Босоножки</td>\n",
       "      <td>Детская одежда и обувь</td>\n",
       "      <td>1</td>\n",
       "    </tr>\n",
       "    <tr>\n",
       "      <th>135509</th>\n",
       "      <td>Босоножки</td>\n",
       "      <td>Детская одежда и обувь</td>\n",
       "      <td>1</td>\n",
       "    </tr>\n",
       "  </tbody>\n",
       "</table>\n",
       "</div>"
      ],
      "text/plain": [
       "                                          title                 label_test  \\\n",
       "112493                          Белые босоножки  Одежда, обувь, аксессуары   \n",
       "127816                                Босоножки     Детская одежда и обувь   \n",
       "86503   Анатомические Босоножки/ сандалии Тотто     Детская одежда и обувь   \n",
       "91071                                 Босоножки     Детская одежда и обувь   \n",
       "135509                                Босоножки     Детская одежда и обувь   \n",
       "\n",
       "        label  \n",
       "112493      1  \n",
       "127816      1  \n",
       "86503       1  \n",
       "91071       1  \n",
       "135509      1  "
      ]
     },
     "execution_count": 191,
     "metadata": {},
     "output_type": "execute_result"
    }
   ],
   "source": [
    "print_metrics(labels, vectors)\n",
    "df = pd.DataFrame({\n",
    "    'title': sample['title'],\n",
    "    'label_test': sample['category_name'],\n",
    "    'label': labels,\n",
    "})\n",
    "df[df['label'] == 1].head()"
   ]
  },
  {
   "cell_type": "markdown",
   "metadata": {},
   "source": [
    "## Вывод\n",
    "\n",
    "С `AgglomerativeClustering` разницы почти нет, с `DBSCAN` лучше работает `TruncatedSVD`"
   ]
  },
  {
   "cell_type": "markdown",
   "metadata": {},
   "source": [
    "# Задание 3"
   ]
  },
  {
   "cell_type": "code",
   "execution_count": 214,
   "metadata": {},
   "outputs": [
    {
     "name": "stdout",
     "output_type": "stream",
     "text": [
      "Silhouette Coefficient: 0.158\n",
      "Homogeneity: 0.161\n",
      "Completeness: 0.317\n",
      "V-measure: 0.213\n",
      "Adjusted Rand Index: -0.050\n",
      "Adjusted Mutual Information: 0.084\n"
     ]
    },
    {
     "name": "stderr",
     "output_type": "stream",
     "text": [
      "/home/misha/.local/lib/python3.7/site-packages/sklearn/metrics/cluster/supervised.py:746: FutureWarning: The behavior of AMI will change in version 0.22. To match the behavior of 'v_measure_score', AMI will use average_method='arithmetic' by default.\n",
      "  FutureWarning)\n"
     ]
    },
    {
     "data": {
      "text/html": [
       "<div>\n",
       "<style scoped>\n",
       "    .dataframe tbody tr th:only-of-type {\n",
       "        vertical-align: middle;\n",
       "    }\n",
       "\n",
       "    .dataframe tbody tr th {\n",
       "        vertical-align: top;\n",
       "    }\n",
       "\n",
       "    .dataframe thead th {\n",
       "        text-align: right;\n",
       "    }\n",
       "</style>\n",
       "<table border=\"1\" class=\"dataframe\">\n",
       "  <thead>\n",
       "    <tr style=\"text-align: right;\">\n",
       "      <th></th>\n",
       "      <th>title</th>\n",
       "      <th>label_test</th>\n",
       "      <th>label</th>\n",
       "    </tr>\n",
       "  </thead>\n",
       "  <tbody>\n",
       "    <tr>\n",
       "      <th>31867</th>\n",
       "      <td>Костюм демисезонный новый</td>\n",
       "      <td>Детская одежда и обувь</td>\n",
       "      <td>-1</td>\n",
       "    </tr>\n",
       "    <tr>\n",
       "      <th>21007</th>\n",
       "      <td>Демисезонный комплект для мальчика</td>\n",
       "      <td>Детская одежда и обувь</td>\n",
       "      <td>-1</td>\n",
       "    </tr>\n",
       "    <tr>\n",
       "      <th>132963</th>\n",
       "      <td>Новые сапожки</td>\n",
       "      <td>Одежда, обувь, аксессуары</td>\n",
       "      <td>-1</td>\n",
       "    </tr>\n",
       "    <tr>\n",
       "      <th>45898</th>\n",
       "      <td>Сапоги весна-осень</td>\n",
       "      <td>Детская одежда и обувь</td>\n",
       "      <td>-1</td>\n",
       "    </tr>\n",
       "    <tr>\n",
       "      <th>10392</th>\n",
       "      <td>Конверт весна-осень</td>\n",
       "      <td>Детская одежда и обувь</td>\n",
       "      <td>-1</td>\n",
       "    </tr>\n",
       "    <tr>\n",
       "      <th>41388</th>\n",
       "      <td>Платье для невесты</td>\n",
       "      <td>Одежда, обувь, аксессуары</td>\n",
       "      <td>-1</td>\n",
       "    </tr>\n",
       "    <tr>\n",
       "      <th>71880</th>\n",
       "      <td>Чехол</td>\n",
       "      <td>Телефоны</td>\n",
       "      <td>-1</td>\n",
       "    </tr>\n",
       "    <tr>\n",
       "      <th>17791</th>\n",
       "      <td>Фильтр новый на 100-200л</td>\n",
       "      <td>Аквариум</td>\n",
       "      <td>-1</td>\n",
       "    </tr>\n",
       "    <tr>\n",
       "      <th>99807</th>\n",
       "      <td>Ободки ручной работы из камней</td>\n",
       "      <td>Часы и украшения</td>\n",
       "      <td>-1</td>\n",
       "    </tr>\n",
       "    <tr>\n",
       "      <th>109338</th>\n",
       "      <td>Куртка для девочек</td>\n",
       "      <td>Детская одежда и обувь</td>\n",
       "      <td>-1</td>\n",
       "    </tr>\n",
       "    <tr>\n",
       "      <th>35823</th>\n",
       "      <td>Рубашка и джинсы 74 размер новые</td>\n",
       "      <td>Детская одежда и обувь</td>\n",
       "      <td>-1</td>\n",
       "    </tr>\n",
       "    <tr>\n",
       "      <th>35401</th>\n",
       "      <td>Продам чехол для дивана Икея</td>\n",
       "      <td>Мебель и интерьер</td>\n",
       "      <td>-1</td>\n",
       "    </tr>\n",
       "    <tr>\n",
       "      <th>89030</th>\n",
       "      <td>Обувь пакетом 36,5-37</td>\n",
       "      <td>Одежда, обувь, аксессуары</td>\n",
       "      <td>-1</td>\n",
       "    </tr>\n",
       "    <tr>\n",
       "      <th>16902</th>\n",
       "      <td>Чехол iPhone 5, 5s</td>\n",
       "      <td>Телефоны</td>\n",
       "      <td>-1</td>\n",
       "    </tr>\n",
       "    <tr>\n",
       "      <th>66097</th>\n",
       "      <td>Ботинки весна</td>\n",
       "      <td>Детская одежда и обувь</td>\n",
       "      <td>-1</td>\n",
       "    </tr>\n",
       "  </tbody>\n",
       "</table>\n",
       "</div>"
      ],
      "text/plain": [
       "                                     title                 label_test  label\n",
       "31867            Костюм демисезонный новый     Детская одежда и обувь     -1\n",
       "21007   Демисезонный комплект для мальчика     Детская одежда и обувь     -1\n",
       "132963                       Новые сапожки  Одежда, обувь, аксессуары     -1\n",
       "45898                   Сапоги весна-осень     Детская одежда и обувь     -1\n",
       "10392                  Конверт весна-осень     Детская одежда и обувь     -1\n",
       "41388                   Платье для невесты  Одежда, обувь, аксессуары     -1\n",
       "71880                                Чехол                   Телефоны     -1\n",
       "17791             Фильтр новый на 100-200л                   Аквариум     -1\n",
       "99807       Ободки ручной работы из камней           Часы и украшения     -1\n",
       "109338                  Куртка для девочек     Детская одежда и обувь     -1\n",
       "35823     Рубашка и джинсы 74 размер новые     Детская одежда и обувь     -1\n",
       "35401         Продам чехол для дивана Икея          Мебель и интерьер     -1\n",
       "89030                Обувь пакетом 36,5-37  Одежда, обувь, аксессуары     -1\n",
       "16902                   Чехол iPhone 5, 5s                   Телефоны     -1\n",
       "66097                        Ботинки весна     Детская одежда и обувь     -1"
      ]
     },
     "execution_count": 214,
     "metadata": {},
     "output_type": "execute_result"
    }
   ],
   "source": [
    "labels, vectors = get_dbscan(tfidf_vec, min_samples=5, eps=0.4)\n",
    "print_metrics(labels, vectors)\n",
    "df = pd.DataFrame({\n",
    "    'title': sample['title'],\n",
    "    'label_test': sample['category_name'],\n",
    "    'label': labels,\n",
    "})\n",
    "df[df['label'] == -1].head(15)"
   ]
  },
  {
   "cell_type": "markdown",
   "metadata": {},
   "source": [
    "`DBSCAN` упорно кладёт одежду в выбросы, надо попробовать что-то ещё"
   ]
  },
  {
   "cell_type": "code",
   "execution_count": 239,
   "metadata": {},
   "outputs": [
    {
     "name": "stdout",
     "output_type": "stream",
     "text": [
      "Silhouette Coefficient: 0.260\n",
      "Homogeneity: 0.542\n",
      "Completeness: 0.365\n",
      "V-measure: 0.436\n",
      "Adjusted Rand Index: -0.036\n",
      "Adjusted Mutual Information: 0.060\n"
     ]
    },
    {
     "name": "stderr",
     "output_type": "stream",
     "text": [
      "/home/misha/.local/lib/python3.7/site-packages/sklearn/metrics/cluster/supervised.py:746: FutureWarning: The behavior of AMI will change in version 0.22. To match the behavior of 'v_measure_score', AMI will use average_method='arithmetic' by default.\n",
      "  FutureWarning)\n"
     ]
    },
    {
     "data": {
      "text/html": [
       "<div>\n",
       "<style scoped>\n",
       "    .dataframe tbody tr th:only-of-type {\n",
       "        vertical-align: middle;\n",
       "    }\n",
       "\n",
       "    .dataframe tbody tr th {\n",
       "        vertical-align: top;\n",
       "    }\n",
       "\n",
       "    .dataframe thead th {\n",
       "        text-align: right;\n",
       "    }\n",
       "</style>\n",
       "<table border=\"1\" class=\"dataframe\">\n",
       "  <thead>\n",
       "    <tr style=\"text-align: right;\">\n",
       "      <th></th>\n",
       "      <th>title</th>\n",
       "      <th>label_test</th>\n",
       "      <th>label</th>\n",
       "    </tr>\n",
       "  </thead>\n",
       "  <tbody>\n",
       "    <tr>\n",
       "      <th>79543</th>\n",
       "      <td>Сервиз обеденный \"Domestic\"</td>\n",
       "      <td>Посуда и товары для кухни</td>\n",
       "      <td>-1</td>\n",
       "    </tr>\n",
       "    <tr>\n",
       "      <th>56370</th>\n",
       "      <td>Продам защитное стекло xiaomi redmi 3 3s 3x 3 pro</td>\n",
       "      <td>Телефоны</td>\n",
       "      <td>-1</td>\n",
       "    </tr>\n",
       "    <tr>\n",
       "      <th>113663</th>\n",
       "      <td>Телевизор Sanyo</td>\n",
       "      <td>Аудио и видео</td>\n",
       "      <td>-1</td>\n",
       "    </tr>\n",
       "    <tr>\n",
       "      <th>8472</th>\n",
       "      <td>Тунис, вылет 11/05 (все включено)</td>\n",
       "      <td>Билеты и путешествия</td>\n",
       "      <td>-1</td>\n",
       "    </tr>\n",
       "    <tr>\n",
       "      <th>37532</th>\n",
       "      <td>Ветровка</td>\n",
       "      <td>Одежда, обувь, аксессуары</td>\n",
       "      <td>-1</td>\n",
       "    </tr>\n",
       "    <tr>\n",
       "      <th>40342</th>\n",
       "      <td>Столик пеленальный подвесной</td>\n",
       "      <td>Товары для детей и игрушки</td>\n",
       "      <td>-1</td>\n",
       "    </tr>\n",
       "    <tr>\n",
       "      <th>47198</th>\n",
       "      <td>Детский автомобиль в стиле ретро</td>\n",
       "      <td>Товары для детей и игрушки</td>\n",
       "      <td>-1</td>\n",
       "    </tr>\n",
       "    <tr>\n",
       "      <th>4152</th>\n",
       "      <td>Наушники Puma</td>\n",
       "      <td>Телефоны</td>\n",
       "      <td>-1</td>\n",
       "    </tr>\n",
       "    <tr>\n",
       "      <th>41065</th>\n",
       "      <td>Услуги грузчиков</td>\n",
       "      <td>Предложение услуг</td>\n",
       "      <td>-1</td>\n",
       "    </tr>\n",
       "    <tr>\n",
       "      <th>89014</th>\n",
       "      <td>Кольцо лягушки</td>\n",
       "      <td>Товары для детей и игрушки</td>\n",
       "      <td>-1</td>\n",
       "    </tr>\n",
       "    <tr>\n",
       "      <th>69843</th>\n",
       "      <td>Ветровка</td>\n",
       "      <td>Одежда, обувь, аксессуары</td>\n",
       "      <td>-1</td>\n",
       "    </tr>\n",
       "    <tr>\n",
       "      <th>26044</th>\n",
       "      <td>HP ScanJet 4070 Photosmart</td>\n",
       "      <td>Оргтехника и расходники</td>\n",
       "      <td>-1</td>\n",
       "    </tr>\n",
       "    <tr>\n",
       "      <th>51115</th>\n",
       "      <td>Газ 3307 Ассенизатор</td>\n",
       "      <td>Грузовики и спецтехника</td>\n",
       "      <td>-1</td>\n",
       "    </tr>\n",
       "    <tr>\n",
       "      <th>16576</th>\n",
       "      <td>Hublot с датой в наличии секундомер</td>\n",
       "      <td>Часы и украшения</td>\n",
       "      <td>-1</td>\n",
       "    </tr>\n",
       "    <tr>\n",
       "      <th>43627</th>\n",
       "      <td>Пинетки</td>\n",
       "      <td>Детская одежда и обувь</td>\n",
       "      <td>-1</td>\n",
       "    </tr>\n",
       "  </tbody>\n",
       "</table>\n",
       "</div>"
      ],
      "text/plain": [
       "                                                    title  \\\n",
       "79543                         Сервиз обеденный \"Domestic\"   \n",
       "56370   Продам защитное стекло xiaomi redmi 3 3s 3x 3 pro   \n",
       "113663                                    Телевизор Sanyo   \n",
       "8472                    Тунис, вылет 11/05 (все включено)   \n",
       "37532                                            Ветровка   \n",
       "40342                        Столик пеленальный подвесной   \n",
       "47198                    Детский автомобиль в стиле ретро   \n",
       "4152                                        Наушники Puma   \n",
       "41065                                    Услуги грузчиков   \n",
       "89014                                      Кольцо лягушки   \n",
       "69843                                            Ветровка   \n",
       "26044                          HP ScanJet 4070 Photosmart   \n",
       "51115                                Газ 3307 Ассенизатор   \n",
       "16576                 Hublot с датой в наличии секундомер   \n",
       "43627                                             Пинетки   \n",
       "\n",
       "                        label_test  label  \n",
       "79543    Посуда и товары для кухни     -1  \n",
       "56370                     Телефоны     -1  \n",
       "113663               Аудио и видео     -1  \n",
       "8472          Билеты и путешествия     -1  \n",
       "37532    Одежда, обувь, аксессуары     -1  \n",
       "40342   Товары для детей и игрушки     -1  \n",
       "47198   Товары для детей и игрушки     -1  \n",
       "4152                      Телефоны     -1  \n",
       "41065            Предложение услуг     -1  \n",
       "89014   Товары для детей и игрушки     -1  \n",
       "69843    Одежда, обувь, аксессуары     -1  \n",
       "26044      Оргтехника и расходники     -1  \n",
       "51115      Грузовики и спецтехника     -1  \n",
       "16576             Часы и украшения     -1  \n",
       "43627       Детская одежда и обувь     -1  "
      ]
     },
     "execution_count": 239,
     "metadata": {},
     "output_type": "execute_result"
    }
   ],
   "source": [
    "svd = TruncatedSVD(50)\n",
    "vectors_svd = svd.fit_transform(cv_vec)\n",
    "cluster = MeanShift(cluster_all=False, bandwidth=0.1)\n",
    "cluster.fit(vectors_svd)\n",
    "labels = cluster.labels_\n",
    "\n",
    "print_metrics(labels, vectors)\n",
    "df = pd.DataFrame({\n",
    "    'title': sample['title'],\n",
    "    'label_test': sample['category_name'],\n",
    "    'label': labels,\n",
    "})\n",
    "df[df['label'] == -1].head(15)"
   ]
  },
  {
   "cell_type": "markdown",
   "metadata": {},
   "source": [
    "Опять никой дичи"
   ]
  },
  {
   "cell_type": "code",
   "execution_count": 253,
   "metadata": {},
   "outputs": [
    {
     "name": "stdout",
     "output_type": "stream",
     "text": [
      "Silhouette Coefficient: 0.140\n",
      "Homogeneity: 0.246\n",
      "Completeness: 0.373\n",
      "V-measure: 0.296\n",
      "Adjusted Rand Index: -0.009\n",
      "Adjusted Mutual Information: 0.158\n"
     ]
    },
    {
     "name": "stderr",
     "output_type": "stream",
     "text": [
      "/home/misha/.local/lib/python3.7/site-packages/sklearn/metrics/cluster/supervised.py:746: FutureWarning: The behavior of AMI will change in version 0.22. To match the behavior of 'v_measure_score', AMI will use average_method='arithmetic' by default.\n",
      "  FutureWarning)\n"
     ]
    },
    {
     "data": {
      "text/html": [
       "<div>\n",
       "<style scoped>\n",
       "    .dataframe tbody tr th:only-of-type {\n",
       "        vertical-align: middle;\n",
       "    }\n",
       "\n",
       "    .dataframe tbody tr th {\n",
       "        vertical-align: top;\n",
       "    }\n",
       "\n",
       "    .dataframe thead th {\n",
       "        text-align: right;\n",
       "    }\n",
       "</style>\n",
       "<table border=\"1\" class=\"dataframe\">\n",
       "  <thead>\n",
       "    <tr style=\"text-align: right;\">\n",
       "      <th></th>\n",
       "      <th>title</th>\n",
       "      <th>label_test</th>\n",
       "      <th>label</th>\n",
       "    </tr>\n",
       "  </thead>\n",
       "  <tbody>\n",
       "  </tbody>\n",
       "</table>\n",
       "</div>"
      ],
      "text/plain": [
       "Empty DataFrame\n",
       "Columns: [title, label_test, label]\n",
       "Index: []"
      ]
     },
     "execution_count": 253,
     "metadata": {},
     "output_type": "execute_result"
    }
   ],
   "source": [
    "cluster = Birch(n_clusters=40)\n",
    "cluster.fit(vectors_svd)\n",
    "labels = cluster.labels_\n",
    "\n",
    "print_metrics(labels, vectors)\n",
    "df = pd.DataFrame({\n",
    "    'title': sample['title'],\n",
    "    'label_test': sample['category_name'],\n",
    "    'label': labels,\n",
    "})\n",
    "df[df['label'] == -1].head(15)"
   ]
  },
  {
   "cell_type": "markdown",
   "metadata": {},
   "source": [
    "Остальные тоже дичи почему-то не выдают :("
   ]
  }
 ],
 "metadata": {
  "kernelspec": {
   "display_name": "Python 3",
   "language": "python",
   "name": "python3"
  },
  "language_info": {
   "codemirror_mode": {
    "name": "ipython",
    "version": 3
   },
   "file_extension": ".py",
   "mimetype": "text/x-python",
   "name": "python",
   "nbconvert_exporter": "python",
   "pygments_lexer": "ipython3",
   "version": "3.7.3"
  }
 },
 "nbformat": 4,
 "nbformat_minor": 2
}
