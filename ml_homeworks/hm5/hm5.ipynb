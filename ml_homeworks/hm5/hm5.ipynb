{
 "cells": [
  {
   "cell_type": "code",
   "execution_count": 110,
   "metadata": {},
   "outputs": [],
   "source": [
    "import pandas as pd\n",
    "import sklearn.metrics as m\n",
    "from itertools import product\n",
    "from nltk.tokenize import word_tokenize\n",
    "from sklearn.pipeline import Pipeline\n",
    "from sklearn.linear_model import LogisticRegression\n",
    "from sklearn.ensemble import RandomForestClassifier, VotingClassifier\n",
    "from sklearn.preprocessing import FunctionTransformer\n",
    "from sklearn.naive_bayes import MultinomialNB, GaussianNB\n",
    "from sklearn.model_selection import train_test_split\n",
    "from sklearn.feature_extraction.text import CountVectorizer, TfidfTransformer\n",
    "from sklearn.neighbors import KNeighborsClassifier\n",
    "from sklearn.decomposition import TruncatedSVD\n",
    "from mlxtend.classifier import StackingClassifier"
   ]
  },
  {
   "cell_type": "code",
   "execution_count": 15,
   "metadata": {},
   "outputs": [],
   "source": [
    "def normalize(text):\n",
    "    tokens = word_tokenize(text)\n",
    "    return ' '.join([token for token in tokens if len(token) > 1])"
   ]
  },
  {
   "cell_type": "code",
   "execution_count": 8,
   "metadata": {},
   "outputs": [
    {
     "data": {
      "text/html": [
       "<div>\n",
       "<style scoped>\n",
       "    .dataframe tbody tr th:only-of-type {\n",
       "        vertical-align: middle;\n",
       "    }\n",
       "\n",
       "    .dataframe tbody tr th {\n",
       "        vertical-align: top;\n",
       "    }\n",
       "\n",
       "    .dataframe thead th {\n",
       "        text-align: right;\n",
       "    }\n",
       "</style>\n",
       "<table border=\"1\" class=\"dataframe\">\n",
       "  <thead>\n",
       "    <tr style=\"text-align: right;\">\n",
       "      <th></th>\n",
       "      <th>COMPLAINT_ID</th>\n",
       "      <th>DATE</th>\n",
       "      <th>PRODUCT_ID</th>\n",
       "      <th>ISSUE_ID</th>\n",
       "      <th>cleaned_text</th>\n",
       "    </tr>\n",
       "  </thead>\n",
       "  <tbody>\n",
       "    <tr>\n",
       "      <th>0</th>\n",
       "      <td>3178905</td>\n",
       "      <td>03/13/2019</td>\n",
       "      <td>44</td>\n",
       "      <td>318</td>\n",
       "      <td>go year . contact advis never took loan . advi...</td>\n",
       "    </tr>\n",
       "    <tr>\n",
       "      <th>1</th>\n",
       "      <td>3175952</td>\n",
       "      <td>03/12/2019</td>\n",
       "      <td>44</td>\n",
       "      <td>349</td>\n",
       "      <td>mail valid debt xx/xx/19 valid receiv , receiv...</td>\n",
       "    </tr>\n",
       "    <tr>\n",
       "      <th>2</th>\n",
       "      <td>3174747</td>\n",
       "      <td>03/09/2019</td>\n",
       "      <td>44</td>\n",
       "      <td>16</td>\n",
       "      <td>xx/xx/xxxx appli receiv onlin loan bluechip fi...</td>\n",
       "    </tr>\n",
       "    <tr>\n",
       "      <th>3</th>\n",
       "      <td>3173291</td>\n",
       "      <td>03/08/2019</td>\n",
       "      <td>44</td>\n",
       "      <td>16</td>\n",
       "      <td>xx/xx/xxxx appli receiv onlin loan . loan amou...</td>\n",
       "    </tr>\n",
       "    <tr>\n",
       "      <th>4</th>\n",
       "      <td>3172221</td>\n",
       "      <td>03/07/2019</td>\n",
       "      <td>44</td>\n",
       "      <td>48</td>\n",
       "      <td>told husband left bill . debt would pay within...</td>\n",
       "    </tr>\n",
       "  </tbody>\n",
       "</table>\n",
       "</div>"
      ],
      "text/plain": [
       "   COMPLAINT_ID        DATE  PRODUCT_ID  ISSUE_ID  \\\n",
       "0       3178905  03/13/2019          44       318   \n",
       "1       3175952  03/12/2019          44       349   \n",
       "2       3174747  03/09/2019          44        16   \n",
       "3       3173291  03/08/2019          44        16   \n",
       "4       3172221  03/07/2019          44        48   \n",
       "\n",
       "                                        cleaned_text  \n",
       "0  go year . contact advis never took loan . advi...  \n",
       "1  mail valid debt xx/xx/19 valid receiv , receiv...  \n",
       "2  xx/xx/xxxx appli receiv onlin loan bluechip fi...  \n",
       "3  xx/xx/xxxx appli receiv onlin loan . loan amou...  \n",
       "4  told husband left bill . debt would pay within...  "
      ]
     },
     "execution_count": 8,
     "metadata": {},
     "output_type": "execute_result"
    }
   ],
   "source": [
    "data_url = 'https://raw.githubusercontent.com/TatianaShavrina/hse_ml_m1/master/ensembles/complaints.csv'\n",
    "data = pd.read_csv(data_url, sep='\\t')\n",
    "data.head()"
   ]
  },
  {
   "cell_type": "code",
   "execution_count": 28,
   "metadata": {},
   "outputs": [],
   "source": [
    "y = data[\"PRODUCT_ID\"]\n",
    "X = [normalize(tokens) for tokens in data[\"cleaned_text\"]]\n",
    "X_train, X_test, y_train, y_test = train_test_split(X, y, test_size=0.1, random_state=42)"
   ]
  },
  {
   "cell_type": "code",
   "execution_count": 103,
   "metadata": {},
   "outputs": [],
   "source": [
    "def get_predictions(weights):\n",
    "    clf1 = LogisticRegression(multi_class='multinomial', solver='lbfgs', random_state=1)\n",
    "    clf2 = RandomForestClassifier(n_estimators=50, random_state=1)\n",
    "    clf3 = GaussianNB()\n",
    "    clf4 = MultinomialNB(alpha=0.1, fit_prior=True)\n",
    "    clf5 = KNeighborsClassifier(n_neighbors=2) \n",
    "\n",
    "    eclf = VotingClassifier(\n",
    "        estimators=[\n",
    "            ('lr', clf1), ('rf', clf2), ('gnb', clf3),\n",
    "            ('mnb', clf4), ('knc', clf5),\n",
    "        ],\n",
    "        voting='hard',\n",
    "        weights=weights,\n",
    "    )\n",
    "\n",
    "    voting = Pipeline([\n",
    "        ('vect', CountVectorizer( analyzer='word', max_features=500)),\n",
    "        ('tfidf', TfidfTransformer(sublinear_tf=True)),\n",
    "        ('to_dense', FunctionTransformer(lambda x: x.todense(), accept_sparse=True)), \n",
    "        ('clf', eclf),\n",
    "        ])\n",
    "    voting = voting.fit(X_train, y_train)\n",
    "    predictions = voting.predict(X_test)\n",
    "    return predictions"
   ]
  },
  {
   "cell_type": "code",
   "execution_count": 90,
   "metadata": {},
   "outputs": [],
   "source": [
    "def print_metrics(predictions):\n",
    "    print(\"Precision: {0:6.2f}\".format(m.precision_score(y_test, predictions, average='macro')))\n",
    "    print(\"Recall: {0:6.2f}\".format(m.recall_score(y_test, predictions, average='macro')))\n",
    "    print(\"F1-measure: {0:6.2f}\".format(m.f1_score(y_test, predictions, average='macro')))\n",
    "    print(\"Accuracy: {0:6.2f}\".format(m.accuracy_score(y_test, predictions)))"
   ]
  },
  {
   "cell_type": "code",
   "execution_count": 104,
   "metadata": {},
   "outputs": [],
   "source": [
    "def get_f1(weights, f=get_predictions):\n",
    "    return m.f1_score(y_test, f(weights), average='macro')"
   ]
  },
  {
   "cell_type": "code",
   "execution_count": 100,
   "metadata": {},
   "outputs": [
    {
     "data": {
      "text/plain": [
       "(2, 2, 1, 1, 2)"
      ]
     },
     "execution_count": 100,
     "metadata": {},
     "output_type": "execute_result"
    }
   ],
   "source": [
    "import warnings\n",
    "warnings.filterwarnings(\"ignore\")\n",
    "\n",
    "best_score = 0\n",
    "best_weights = None\n",
    "for weights in product(*[[1, 2]] * 5):\n",
    "    f1 = get_f1(weights)\n",
    "    if f1 > best_score:\n",
    "        best_score = f1\n",
    "        best_weights = weights\n",
    "best_weights"
   ]
  },
  {
   "cell_type": "code",
   "execution_count": 102,
   "metadata": {},
   "outputs": [
    {
     "name": "stdout",
     "output_type": "stream",
     "text": [
      "Precision:   0.74\n",
      "Recall:   0.71\n",
      "F1-measure:   0.71\n",
      "Accuracy:   0.71\n"
     ]
    }
   ],
   "source": [
    "predictions = get_predictions(best_weights)\n",
    "print_metrics(predictions)"
   ]
  },
  {
   "cell_type": "markdown",
   "metadata": {},
   "source": [
    "ДОБИЛО ДО СЕМИ ДЕСЯТЫХ!!!"
   ]
  },
  {
   "cell_type": "markdown",
   "metadata": {},
   "source": [
    "Всё благодаря гениальной штуке для генерации весов, надо обязательно запомнить:"
   ]
  },
  {
   "cell_type": "code",
   "execution_count": 84,
   "metadata": {},
   "outputs": [
    {
     "data": {
      "text/plain": [
       "<itertools.product at 0x7f8e8e74b360>"
      ]
     },
     "execution_count": 84,
     "metadata": {},
     "output_type": "execute_result"
    }
   ],
   "source": [
    "from itertools import product\n",
    "product(*[[1, 2]] * 5)"
   ]
  },
  {
   "cell_type": "markdown",
   "metadata": {},
   "source": [
    "Я не вполне понимаю задания, результат в `0.71` уже довольно неплохо. Но попробуем сделать ещё что-нибудь из семинарской тетрадки."
   ]
  },
  {
   "cell_type": "code",
   "execution_count": 106,
   "metadata": {},
   "outputs": [],
   "source": [
    "def get_predictions2():\n",
    "    clf1 = LogisticRegression(multi_class='multinomial', solver='lbfgs', random_state=1)\n",
    "    clf2 = RandomForestClassifier(n_estimators=50, random_state=1)\n",
    "    clf3 = GaussianNB()\n",
    "    clf4 = MultinomialNB(alpha=0.1, fit_prior=True)\n",
    "    clf5 = KNeighborsClassifier(n_neighbors=2)\n",
    "    lr = LogisticRegression()\n",
    "    sclf = StackingClassifier(\n",
    "        classifiers=[clf1, clf2, clf3, clf4, clf5],\n",
    "        meta_classifier=lr,\n",
    "    )\n",
    "    voting = Pipeline([\n",
    "        ('vect', CountVectorizer( analyzer='word', max_features=500)),\n",
    "        ('tfidf', TfidfTransformer(sublinear_tf=True)),\n",
    "        ('to_dense', FunctionTransformer(lambda x: x.todense(), accept_sparse=True)), \n",
    "        ('clf', sclf),\n",
    "        ])\n",
    "    voting = voting.fit(X_train, y_train)\n",
    "    predictions = voting.predict(X_test)\n",
    "    return predictions"
   ]
  },
  {
   "cell_type": "code",
   "execution_count": 111,
   "metadata": {},
   "outputs": [
    {
     "name": "stdout",
     "output_type": "stream",
     "text": [
      "Precision:   0.67\n",
      "Recall:   0.62\n",
      "F1-measure:   0.62\n",
      "Accuracy:   0.62\n"
     ]
    }
   ],
   "source": [
    "predictions = get_predictions2()\n",
    "print_metrics(predictions)"
   ]
  },
  {
   "cell_type": "markdown",
   "metadata": {},
   "source": [
    "Хорошая попытка, но у нас уже есть лучше. По сути получается, что здесь мы заставляем модель угадывать нужные веса, а в предыдущей модели, мы просто вычислили оптимальные веса. Поэтому не удивительно, что результат там чуть повыше"
   ]
  },
  {
   "cell_type": "code",
   "execution_count": null,
   "metadata": {},
   "outputs": [],
   "source": []
  }
 ],
 "metadata": {
  "kernelspec": {
   "display_name": "Python 3",
   "language": "python",
   "name": "python3"
  },
  "language_info": {
   "codemirror_mode": {
    "name": "ipython",
    "version": 3
   },
   "file_extension": ".py",
   "mimetype": "text/x-python",
   "name": "python",
   "nbconvert_exporter": "python",
   "pygments_lexer": "ipython3",
   "version": "3.7.3"
  }
 },
 "nbformat": 4,
 "nbformat_minor": 2
}
