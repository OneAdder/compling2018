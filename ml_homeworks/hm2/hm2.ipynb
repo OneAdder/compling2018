{
 "cells": [
  {
   "cell_type": "code",
   "execution_count": 33,
   "metadata": {},
   "outputs": [],
   "source": [
    "import os\n",
    "import pandas as pd\n",
    "import sklearn.metrics as m\n",
    "from sklearn.feature_extraction.text import CountVectorizer\n",
    "from sklearn.neighbors import KNeighborsClassifier\n",
    "from sklearn.naive_bayes import MultinomialNB\n",
    "from sklearn.linear_model import LogisticRegression\n",
    "from matplotlib import pyplot"
   ]
  },
  {
   "cell_type": "code",
   "execution_count": 7,
   "metadata": {},
   "outputs": [],
   "source": [
    "test = []\n",
    "\n",
    "test_neg_path = os.path.join('aclImdb', 'test', 'neg')\n",
    "fnames = os.listdir(test_neg_path)\n",
    "for file in fnames:\n",
    "    with open(test_neg_path + os.path.sep + file) as f:   \n",
    "        test.append({\"text\" : f.read(), 'key' : 0})\n",
    "\n",
    "test_pos_path = os.path.join('aclImdb', 'test', 'pos')\n",
    "fnames = os.listdir(test_pos_path)\n",
    "for file in fnames:\n",
    "    with open(test_pos_path + os.path.sep + file) as f:   \n",
    "        test.append({\"text\" : f.read(), 'key' : 1})\n",
    "\n",
    "test = pd.DataFrame.from_records(test)"
   ]
  },
  {
   "cell_type": "code",
   "execution_count": 8,
   "metadata": {},
   "outputs": [],
   "source": [
    "train = []\n",
    "\n",
    "train_neg_path = os.path.join('aclImdb', 'train', 'neg')\n",
    "fnames = os.listdir(train_neg_path)\n",
    "for file in fnames:\n",
    "    with open(train_neg_path + os.path.sep + file) as f:   \n",
    "        train.append({\"text\" : f.read(), 'key' : 0})\n",
    "\n",
    "train_pos_path = os.path.join('aclImdb', 'train', 'pos')\n",
    "fnames = os.listdir(train_pos_path)\n",
    "for file in fnames:\n",
    "    with open(train_pos_path + os.path.sep + file) as f:   \n",
    "        train.append({\"text\" : f.read(), 'key' : 1})\n",
    "\n",
    "train = pd.DataFrame.from_records(train)"
   ]
  },
  {
   "cell_type": "code",
   "execution_count": 18,
   "metadata": {},
   "outputs": [],
   "source": [
    "cv = CountVectorizer(50)\n",
    "cv_train = cv.fit_transform(train.text)\n",
    "cv_test = cv.transform(test.text)"
   ]
  },
  {
   "cell_type": "code",
   "execution_count": 23,
   "metadata": {},
   "outputs": [],
   "source": [
    "def print_metrics(prediction):\n",
    "    acc = m.accuracy_score(test.key, prediction)\n",
    "    f1 = m.f1_score(test.key, prediction)\n",
    "    precision = m.precision_score(test.key, prediction)\n",
    "    recall = m.recall_score(test.key, prediction)\n",
    "    roc_auc = m.roc_auc_score(test.key, prediction)\n",
    "    print(\n",
    "        'F1={0:1.4f}, Precision={1:1.4f}, Recall={2:1.4f}, ' \\\n",
    "        'ROC-AUC = {3:1.4f}'.format(\n",
    "            f1, precision, recall, roc_auc)\n",
    "    )"
   ]
  },
  {
   "cell_type": "code",
   "execution_count": 39,
   "metadata": {},
   "outputs": [],
   "source": [
    "def draw(prediction):\n",
    "    fpr, tpr, _ = m.roc_curve(test.key, prediction)\n",
    "    pyplot.plot(fpr, tpr, marker='.', label='Test')\n",
    "    # axis labels\n",
    "    pyplot.xlabel('False Positive Rate')\n",
    "    pyplot.ylabel('True Positive Rate')\n",
    "    # show the legend\n",
    "    pyplot.legend()\n",
    "    # show the plot\n",
    "    pyplot.show()\n",
    "    pyplot.clf()"
   ]
  },
  {
   "cell_type": "markdown",
   "metadata": {},
   "source": [
    "`KNeighborsClassifier`"
   ]
  },
  {
   "cell_type": "code",
   "execution_count": 20,
   "metadata": {},
   "outputs": [],
   "source": [
    "model1 = KNeighborsClassifier().fit(cv_train, train.key)"
   ]
  },
  {
   "cell_type": "code",
   "execution_count": 24,
   "metadata": {},
   "outputs": [],
   "source": [
    "prediction1 = model1.predict(cv_test)"
   ]
  },
  {
   "cell_type": "code",
   "execution_count": 25,
   "metadata": {},
   "outputs": [
    {
     "name": "stdout",
     "output_type": "stream",
     "text": [
      "F1=0.6481, Precision=0.6080, Recall=0.6939, ROC-AUC = 0.6233\n"
     ]
    }
   ],
   "source": [
    "print_metrics(prediction1)"
   ]
  },
  {
   "cell_type": "code",
   "execution_count": 40,
   "metadata": {},
   "outputs": [
    {
     "data": {
      "image/png": "[encoded data removed]",
      "text/plain": [
       "<Figure size 432x288 with 1 Axes>"
      ]
     },
     "metadata": {
      "needs_background": "light"
     },
     "output_type": "display_data"
    },
    {
     "data": {
      "text/plain": [
       "<Figure size 432x288 with 0 Axes>"
      ]
     },
     "metadata": {},
     "output_type": "display_data"
    }
   ],
   "source": [
    "draw(prediction1)"
   ]
  },
  {
   "cell_type": "markdown",
   "metadata": {},
   "source": [
    "`LogisticRegression`"
   ]
  },
  {
   "cell_type": "code",
   "execution_count": 26,
   "metadata": {},
   "outputs": [
    {
     "name": "stderr",
     "output_type": "stream",
     "text": [
      "/home/misha/.local/lib/python3.7/site-packages/sklearn/linear_model/logistic.py:432: FutureWarning: Default solver will be changed to 'lbfgs' in 0.22. Specify a solver to silence this warning.\n",
      "  FutureWarning)\n"
     ]
    }
   ],
   "source": [
    "model2 = LogisticRegression().fit(cv_train, train.key)"
   ]
  },
  {
   "cell_type": "code",
   "execution_count": 27,
   "metadata": {},
   "outputs": [],
   "source": [
    "prediction2 = model2.predict(cv_test)"
   ]
  },
  {
   "cell_type": "code",
   "execution_count": 28,
   "metadata": {},
   "outputs": [
    {
     "name": "stdout",
     "output_type": "stream",
     "text": [
      "F1=0.8657, Precision=0.8726, Recall=0.8588, ROC-AUC = 0.8667\n"
     ]
    }
   ],
   "source": [
    "print_metrics(prediction2)"
   ]
  },
  {
   "cell_type": "code",
   "execution_count": 41,
   "metadata": {},
   "outputs": [
    {
     "data": {
      "image/png": "[encoded data removed]",
      "text/plain": [
       "<Figure size 432x288 with 1 Axes>"
      ]
     },
     "metadata": {
      "needs_background": "light"
     },
     "output_type": "display_data"
    },
    {
     "data": {
      "text/plain": [
       "<Figure size 432x288 with 0 Axes>"
      ]
     },
     "metadata": {},
     "output_type": "display_data"
    }
   ],
   "source": [
    "draw(prediction2)"
   ]
  },
  {
   "cell_type": "markdown",
   "metadata": {},
   "source": [
    "`MultinomialNB`"
   ]
  },
  {
   "cell_type": "code",
   "execution_count": 30,
   "metadata": {},
   "outputs": [],
   "source": [
    "model3 = MultinomialNB().fit(cv_train, train.key)"
   ]
  },
  {
   "cell_type": "code",
   "execution_count": 31,
   "metadata": {},
   "outputs": [],
   "source": [
    "prediction3 = model3.predict(cv_test)"
   ]
  },
  {
   "cell_type": "code",
   "execution_count": 32,
   "metadata": {},
   "outputs": [
    {
     "name": "stdout",
     "output_type": "stream",
     "text": [
      "F1=0.8006, Precision=0.8605, Recall=0.7484, ROC-AUC = 0.8136\n"
     ]
    }
   ],
   "source": [
    "print_metrics(prediction3)"
   ]
  },
  {
   "cell_type": "code",
   "execution_count": 42,
   "metadata": {},
   "outputs": [
    {
     "data": {
      "image/png": "[encoded data removed]",
      "text/plain": [
       "<Figure size 432x288 with 1 Axes>"
      ]
     },
     "metadata": {
      "needs_background": "light"
     },
     "output_type": "display_data"
    },
    {
     "data": {
      "text/plain": [
       "<Figure size 432x288 with 0 Axes>"
      ]
     },
     "metadata": {},
     "output_type": "display_data"
    }
   ],
   "source": [
    "draw(prediction3)"
   ]
  },
  {
   "cell_type": "markdown",
   "metadata": {},
   "source": [
    "Функции метрик"
   ]
  },
  {
   "cell_type": "code",
   "execution_count": 54,
   "metadata": {},
   "outputs": [],
   "source": [
    "tp = lambda result, expected: len([\n",
    "    _ for i in range(len(result))\n",
    "    if result[i] == 1 and expected[i] == 1\n",
    "])\n",
    "\n",
    "fp = lambda result, expected: len([\n",
    "    _ for i in range(len(result))\n",
    "    if result[i] == 1 and expected[i] == 0\n",
    "])\n",
    "\n",
    "tn = lambda result, expected: len([\n",
    "    _ for i in range(len(result))\n",
    "    if result[i] == 0 and expected[i] == 0\n",
    "])\n",
    "\n",
    "fn = lambda result, expected: len([\n",
    "    _ for i in range(len(result))\n",
    "    if result[i] == 0 and expected[i] == 1\n",
    "])\n",
    "\n",
    "def precision_score(result, expected):\n",
    "    p = tp(result, expected) / (tp(result, expected) + fp(result, expected))\n",
    "    return p\n",
    "\n",
    "def recall_score(result, expected):\n",
    "    r = tp(result, expected) / (tp(result, expected) + fn(result, expected))\n",
    "    return r\n",
    "\n",
    "def f1_score(result, expected):\n",
    "    p = precision_score(result, expected)\n",
    "    r = recall_score(result, expected)\n",
    "    f1 = (2 * p * r) / (p + r)\n",
    "    return f1\n",
    "\n",
    "def print_my_metrics(prediction):\n",
    "    f1 = f1_score(prediction, test.key)\n",
    "    precision = precision_score(prediction, test.key)\n",
    "    recall = recall_score(prediction, test.key)\n",
    "    print(\n",
    "        'F1={0:1.4f}, Precision={1:1.4f}, Recall={2:1.4f}'.format(\n",
    "            f1, precision, recall)\n",
    "    )"
   ]
  },
  {
   "cell_type": "code",
   "execution_count": 56,
   "metadata": {},
   "outputs": [
    {
     "name": "stdout",
     "output_type": "stream",
     "text": [
      "F1=0.6481, Precision=0.6080, Recall=0.6939\n",
      "F1=0.8657, Precision=0.8726, Recall=0.8588\n",
      "F1=0.8006, Precision=0.8605, Recall=0.7484\n"
     ]
    }
   ],
   "source": [
    "print_my_metrics(prediction1)\n",
    "print_my_metrics(prediction2)\n",
    "print_my_metrics(prediction3)"
   ]
  }
 ],
 "metadata": {
  "kernelspec": {
   "display_name": "Python 3",
   "language": "python",
   "name": "python3"
  },
  "language_info": {
   "codemirror_mode": {
    "name": "ipython",
    "version": 3
   },
   "file_extension": ".py",
   "mimetype": "text/x-python",
   "name": "python",
   "nbconvert_exporter": "python",
   "pygments_lexer": "ipython3",
   "version": "3.7.3"
  }
 },
 "nbformat": 4,
 "nbformat_minor": 2
}
